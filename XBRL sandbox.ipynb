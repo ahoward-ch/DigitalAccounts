{
 "cells": [
  {
   "cell_type": "markdown",
   "id": "90dd16c2",
   "metadata": {},
   "source": [
    "# XBRL data extraction sandbox"
   ]
  },
  {
   "cell_type": "markdown",
   "id": "8a0ff909",
   "metadata": {},
   "source": [
    "Import logging, filepath functions, the XBRL parser functions, pandas, json"
   ]
  },
  {
   "cell_type": "code",
   "execution_count": 1,
   "id": "497c13ec",
   "metadata": {},
   "outputs": [],
   "source": [
    "from os import listdir, path\n",
    "from os.path import isfile, join\n",
    "import logging\n",
    "from xbrl.cache import HttpCache\n",
    "from xbrl.instance import XbrlParser, XbrlInstance\n",
    "import json\n",
    "import pandas as pd"
   ]
  },
  {
   "cell_type": "markdown",
   "id": "62fc9bf9",
   "metadata": {},
   "source": [
    "Import account data extraction funtions"
   ]
  },
  {
   "cell_type": "code",
   "execution_count": 2,
   "id": "e2316926",
   "metadata": {},
   "outputs": [],
   "source": [
    "from digiaccounts_data import get_financial_table, get_startend_period, get_company_address, get_company_registration\n"
   ]
  },
  {
   "cell_type": "markdown",
   "id": "82f4b424",
   "metadata": {},
   "source": [
    "Define accounts files and create instance of chosen file for data extractions"
   ]
  },
  {
   "cell_type": "code",
   "execution_count": 3,
   "id": "6dd59c1c",
   "metadata": {},
   "outputs": [
    {
     "data": {
      "text/plain": [
       "['11505896_aa_2021-05-25.xhtml',\n",
       " '11505896_aa_2022-01-07.xhtml',\n",
       " '11505896_aa_2022_01_07.xhtml']"
      ]
     },
     "execution_count": 3,
     "metadata": {},
     "output_type": "execute_result"
    }
   ],
   "source": [
    "account_root = 'accounts_data'\n",
    "\n",
    "all_accounts = [f for f in listdir(account_root) if isfile(join(account_root, f))]\n",
    "all_accounts\n",
    "active = [a for a in all_accounts if '11505896' in a]\n",
    "# active = [a for a in all_accounts if '07676340' in a]\n",
    "active"
   ]
  },
  {
   "cell_type": "code",
   "execution_count": 4,
   "id": "b4930a3e",
   "metadata": {
    "scrolled": false
   },
   "outputs": [
    {
     "name": "stderr",
     "output_type": "stream",
     "text": [
      "WARNING:root:Could not transform value \"\" with format ixt2:nocontent\n",
      "WARNING:root:Could not transform value \"\" with format ixt2:nocontent\n",
      "WARNING:root:Could not transform value \"\" with format ixt2:nocontent\n",
      "WARNING:root:Could not transform value \"\" with format ixt2:nocontent\n",
      "WARNING:root:Could not transform value \"8.8.18\" with format ixt2:datedaymonthyear\n",
      "WARNING:root:Could not transform value \"30.9.19\" with format ixt2:datedaymonthyear\n",
      "WARNING:root:Could not transform value \"30.9.19\" with format ixt2:datedaymonthyear\n",
      "WARNING:root:Could not transform value \"\" with format ixt2:nocontent\n",
      "WARNING:root:Could not transform value \"\" with format ixt2:nocontent\n",
      "WARNING:root:Could not transform value \"\" with format ixt2:nocontent\n",
      "WARNING:root:Could not transform value \"\" with format ixt2:nocontent\n",
      "WARNING:root:Could not transform value \"\" with format ixt2:nocontent\n",
      "WARNING:root:Could not transform value \"\" with format ixt2:nocontent\n",
      "WARNING:root:Could not transform value \"\" with format ixt2:nocontent\n",
      "WARNING:root:Could not transform value \"\" with format ixt2:nocontent\n",
      "WARNING:root:Could not transform value \"\" with format ixt2:nocontent\n",
      "WARNING:root:Could not transform value \"\" with format ixt2:nocontent\n",
      "WARNING:root:Could not transform value \"private company, limited by shares\" with format ixt2:nocontent\n"
     ]
    }
   ],
   "source": [
    "logging.basicConfig(level=logging.WARNING)\n",
    "\n",
    "cache: HttpCache = HttpCache('./cache')\n",
    "cache.set_headers({'From': 'ahoward@companieshouse.gov.uk', 'User-Agent': 'py-xbrl/2.1.0'})\n",
    "parser = XbrlParser(cache)\n",
    "\n",
    "schema = path.join(account_root, active[2])\n",
    "\n",
    "inst: XbrlInstance = parser.parse_instance(schema)"
   ]
  },
  {
   "cell_type": "markdown",
   "id": "99eb6bbb",
   "metadata": {},
   "source": [
    "Print each fact held within the XBRL file for reference"
   ]
  },
  {
   "cell_type": "code",
   "execution_count": 5,
   "id": "c64623b9",
   "metadata": {
    "scrolled": false
   },
   "outputs": [
    {
     "name": "stdout",
     "output_type": "stream",
     "text": [
      "FixedAssets £12964.0 date=2021-03-31\n",
      "\n",
      "FixedAssets £17285.0 date=2020-03-31\n",
      "\n",
      "CurrentAssets £39112.0 date=2021-03-31\n",
      "\n",
      "CurrentAssets £21842.0 date=2020-03-31\n",
      "\n",
      "Creditors £19770.0 date=2021-03-31\n",
      "\n",
      "Creditors £19036.0 date=2020-03-31\n",
      "\n",
      "NetCurrentAssetsLiabilities £19342.0 date=2021-03-31\n",
      "\n",
      "NetCurrentAssetsLiabilities £2806.0 date=2020-03-31\n",
      "\n",
      "TotalAssetsLessCurrentLiabilities £32306.0 date=2021-03-31\n",
      "\n",
      "TotalAssetsLessCurrentLiabilities £20091.0 date=2020-03-31\n",
      "\n",
      "Creditors £25000.0 date=2021-03-31\n",
      "\n",
      "Creditors £0.0 date=2020-03-31\n",
      "\n",
      "AccruedLiabilitiesNotExpressedWithinCreditorsSubtotal £0.0 date=2021-03-31\n",
      "\n",
      "AccruedLiabilitiesNotExpressedWithinCreditorsSubtotal £1165.0 date=2020-03-31\n",
      "\n",
      "NetAssetsLiabilities £7306.0 date=2021-03-31\n",
      "\n",
      "NetAssetsLiabilities £18926.0 date=2020-03-31\n",
      "\n",
      "Equity £7306.0 date=2021-03-31\n",
      "\n",
      "Equity £18926.0 date=2020-03-31\n",
      "\n",
      "AverageNumberEmployeesDuringPeriod 4.0 \n",
      "\n",
      "AverageNumberEmployeesDuringPeriod 4.0 \n",
      "\n",
      "LegalFormEntity  \n",
      "\n",
      "StartDateForPeriodCoveredByReport 2020-04-01 date=2020-03-31\n",
      "\n",
      "EntityTradingStatus  \n",
      "\n",
      "EntityDormantTruefalse false \n",
      "\n",
      "AccountsStatusAuditedOrUnaudited  \n",
      "\n",
      "AccountsTypeFullOrAbbreviated  \n",
      "\n",
      "DescriptionPrincipalActivities No description of principal activity \n",
      "\n",
      "NameProductionSoftware Taxfiler \n",
      "\n",
      "VersionProductionSoftware 2021.20 \n",
      "\n",
      "UKCompaniesHouseRegisteredNumber 07676340 \n",
      "\n",
      "EntityCurrentLegalOrRegisteredName A A ABBEY ROOFING & BUILDING CONTRACTORS LTD \n",
      "\n",
      "ReportTitle Unaudited accounts \n",
      "\n",
      "EndDateForPeriodCoveredByReport 2021-03-31 date=2021-03-31\n",
      "\n",
      "EntityCurrentLegalOrRegisteredName A A ABBEY ROOFING & BUILDING CONTRACTORS LTD \n",
      "\n",
      "EndDateForPeriodCoveredByReport 2021-03-31 date=2021-03-31\n",
      "\n",
      "EntityCurrentLegalOrRegisteredName A A ABBEY ROOFING & BUILDING CONTRACTORS LTD \n",
      "\n",
      "EndDateForPeriodCoveredByReport 2021-03-31 date=2021-03-31\n",
      "\n",
      "BalanceSheetDate 2021-03-31 date=2021-03-31\n",
      "\n",
      "EntityCurrentLegalOrRegisteredName A A ABBEY ROOFING & BUILDING CONTRACTORS LTD \n",
      "\n",
      "CountryFormationOrIncorporation  \n",
      "\n",
      "UKCompaniesHouseRegisteredNumber 07676340 \n",
      "\n",
      "AddressLine1 7 CAER STREET \n",
      "\n",
      "PrincipalLocation-CityOrTown SWANSEA \n",
      "\n",
      "PostalCodeZip SA1 3PP \n",
      "\n",
      "StatementThatCompanyEntitledToExemptionFromAuditUnderSection477CompaniesAct2006RelatingToSmallCompanies For the year ending 31 March 2021 the company was entitled to exemption from audit under section 477 of the Companies Act 2006 relating to small companies. \n",
      "\n",
      "EndDateForPeriodCoveredByReport 2021-03-31 date=2021-03-31\n",
      "\n",
      "StatementThatMembersHaveNotRequiredCompanyToObtainAnAudit The members have not required the company to obtain an audit in accordance with section 476 of the Companies Act 2006.  \n",
      "\n",
      "StatementThatDirectorsAcknowledgeTheirResponsibilitiesUnderCompaniesAct The director acknowledges his responsibilities for complying with the requirements of the Act with respect to accounting records and the preparation of accounts. \n",
      "\n",
      "AccountingStandardsApplied  \n",
      "\n",
      "StatementThatAccountsHaveBeenPreparedInAccordanceWithProvisionsSmallCompaniesRegime These accounts have been prepared in accordance with the micro-entity provisions of the Companies Act 2006 and FRS 105, The Financial Reporting Standard applicable to the Micro-entities Regime. The accounts have been delivered in accordance with the provisions applicable to companies subject to the small companies regime. The profit and loss account has not been delivered to the Registrar of Companies. \n",
      "\n",
      "DateAuthorisationFinancialStatementsForIssue 2021-12-29 date=2021-03-31\n",
      "\n",
      "NameEntityOfficer K LEWIS \n",
      "\n",
      "DirectorSigningFinancialStatements  \n",
      "\n",
      "UKCompaniesHouseRegisteredNumber 07676340 \n",
      "\n"
     ]
    }
   ],
   "source": [
    "for fact in inst.facts:\n",
    "    if hasattr(fact.context, 'instant_date'):\n",
    "        if hasattr(fact, 'unit'):\n",
    "            print(fact.concept.name, f'£{fact.value}', f'date={fact.context.instant_date}\\n')\n",
    "            #print(fact.unit)\n",
    "        else:\n",
    "            print(fact.concept.name, fact.value, f'date={fact.context.instant_date}\\n')\n",
    "    else:\n",
    "        print(fact.concept.name, fact.value, '\\n')\n",
    "    # if fact.concept.name == 'Creditors':\n",
    "    #     print(dir(fact.context.segments))\n",
    "    #     break"
   ]
  },
  {
   "cell_type": "markdown",
   "id": "2896d5fd",
   "metadata": {},
   "source": [
    "## Deploy accounts functions\n",
    "Parse the instance to each of the accounts functions to extract the important account data"
   ]
  },
  {
   "cell_type": "code",
   "execution_count": 5,
   "id": "17f334fa",
   "metadata": {},
   "outputs": [
    {
     "ename": "KeyError",
     "evalue": "'MaturitiesOrExpirationPeriodsDimension'",
     "output_type": "error",
     "traceback": [
      "\u001b[1;31m---------------------------------------------------------------------------\u001b[0m",
      "\u001b[1;31mKeyError\u001b[0m                                  Traceback (most recent call last)",
      "\u001b[1;32mc:\\Users\\ahoward\\Projects\\DigitalAccounts\\XBRL sandbox.ipynb Cell 12\u001b[0m in \u001b[0;36m<cell line: 1>\u001b[1;34m()\u001b[0m\n\u001b[1;32m----> <a href='vscode-notebook-cell:/c%3A/Users/ahoward/Projects/DigitalAccounts/XBRL%20sandbox.ipynb#X10sZmlsZQ%3D%3D?line=0'>1</a>\u001b[0m pl \u001b[39m=\u001b[39m get_financial_table(inst)\n\u001b[0;32m      <a href='vscode-notebook-cell:/c%3A/Users/ahoward/Projects/DigitalAccounts/XBRL%20sandbox.ipynb#X10sZmlsZQ%3D%3D?line=1'>2</a>\u001b[0m start, end \u001b[39m=\u001b[39m get_startend_period(inst)\n\u001b[0;32m      <a href='vscode-notebook-cell:/c%3A/Users/ahoward/Projects/DigitalAccounts/XBRL%20sandbox.ipynb#X10sZmlsZQ%3D%3D?line=2'>3</a>\u001b[0m reg_number \u001b[39m=\u001b[39m get_company_registration(inst)\n",
      "File \u001b[1;32mc:\\Users\\ahoward\\Projects\\DigitalAccounts\\digiaccounts_data.py:53\u001b[0m, in \u001b[0;36mget_financial_table\u001b[1;34m(xbrl_instance)\u001b[0m\n\u001b[0;32m     41\u001b[0m \u001b[39mdef\u001b[39;00m \u001b[39mget_financial_table\u001b[39m(xbrl_instance):\n\u001b[0;32m     42\u001b[0m     \u001b[39m\"\"\"formats and returns a pandas dataframe of finanical data contained within an XBRL file instance of accounts\u001b[39;00m\n\u001b[0;32m     43\u001b[0m \u001b[39m    information\u001b[39;00m\n\u001b[0;32m     44\u001b[0m \n\u001b[1;32m   (...)\u001b[0m\n\u001b[0;32m     51\u001b[0m \u001b[39m        end date\u001b[39;00m\n\u001b[0;32m     52\u001b[0m \u001b[39m    \"\"\"\u001b[39;00m\n\u001b[1;32m---> 53\u001b[0m     financial_dict \u001b[39m=\u001b[39m get_financial_facts(xbrl_instance)\n\u001b[0;32m     55\u001b[0m     df \u001b[39m=\u001b[39m pd\u001b[39m.\u001b[39mDataFrame(financial_dict)\n\u001b[0;32m     56\u001b[0m     mask \u001b[39m=\u001b[39m df[[\u001b[39m'\u001b[39m\u001b[39mFact\u001b[39m\u001b[39m'\u001b[39m, \u001b[39m'\u001b[39m\u001b[39mDate\u001b[39m\u001b[39m'\u001b[39m]]\u001b[39m.\u001b[39mduplicated(keep\u001b[39m=\u001b[39m\u001b[39mFalse\u001b[39;00m)\n",
      "File \u001b[1;32mc:\\Users\\ahoward\\Projects\\DigitalAccounts\\digiaccounts_data.py:29\u001b[0m, in \u001b[0;36mget_financial_facts\u001b[1;34m(xbrl_instance)\u001b[0m\n\u001b[0;32m     27\u001b[0m     names\u001b[39m.\u001b[39mappend(fact\u001b[39m.\u001b[39mconcept\u001b[39m.\u001b[39mname \u001b[39m+\u001b[39m period)\n\u001b[0;32m     28\u001b[0m \u001b[39melif\u001b[39;00m \u001b[39m'\u001b[39m\u001b[39mFinancialInstrumentCurrentNon-currentDimension\u001b[39m\u001b[39m'\u001b[39m \u001b[39min\u001b[39;00m fact\u001b[39m.\u001b[39mjson()[\u001b[39m'\u001b[39m\u001b[39mdimensions\u001b[39m\u001b[39m'\u001b[39m]:\n\u001b[1;32m---> 29\u001b[0m     period \u001b[39m=\u001b[39m fact\u001b[39m.\u001b[39;49mjson()[\u001b[39m'\u001b[39;49m\u001b[39mdimensions\u001b[39;49m\u001b[39m'\u001b[39;49m][\u001b[39m'\u001b[39;49m\u001b[39mMaturitiesOrExpirationPeriodsDimension\u001b[39;49m\u001b[39m'\u001b[39;49m]\n\u001b[0;32m     30\u001b[0m     names\u001b[39m.\u001b[39mappend(fact\u001b[39m.\u001b[39mconcept\u001b[39m.\u001b[39mname \u001b[39m+\u001b[39m period)\n\u001b[0;32m     31\u001b[0m \u001b[39melse\u001b[39;00m:\n",
      "\u001b[1;31mKeyError\u001b[0m: 'MaturitiesOrExpirationPeriodsDimension'"
     ]
    }
   ],
   "source": [
    "pl = get_financial_table(inst)\n",
    "start, end = get_startend_period(inst)\n",
    "reg_number = get_company_registration(inst)\n",
    "address= get_company_address(inst)\n"
   ]
  },
  {
   "cell_type": "code",
   "execution_count": 33,
   "id": "19334c95",
   "metadata": {},
   "outputs": [
    {
     "name": "stdout",
     "output_type": "stream",
     "text": [
      "{'dimensions': {'unit': 'iso4217:GBP', 'concept': 'Creditors', 'entity': '11505896', 'period': '2019-09-30', 'FinancialInstrumentCurrentNon-currentDimension': 'CurrentFinancialInstruments'}, 'decimals': 0, 'value': 590358.0}\n",
      "{'dimensions': {'unit': 'iso4217:GBP', 'concept': 'Creditors', 'entity': '11505896', 'period': '2019-09-30', 'FinancialInstrumentCurrentNon-currentDimension': 'Non-currentFinancialInstruments'}, 'decimals': 0, 'value': 750000.0}\n"
     ]
    }
   ],
   "source": [
    "for fact in inst.facts:\n",
    "    if (hasattr(fact.context, 'instant_date')) and (hasattr(fact, 'unit')):\n",
    "            if fact.concept.name == 'Creditors':\n",
    "                print(fact.json())"
   ]
  },
  {
   "cell_type": "code",
   "execution_count": 6,
   "id": "36f8db16",
   "metadata": {},
   "outputs": [
    {
     "data": {
      "text/html": [
       "<div>\n",
       "<style scoped>\n",
       "    .dataframe tbody tr th:only-of-type {\n",
       "        vertical-align: middle;\n",
       "    }\n",
       "\n",
       "    .dataframe tbody tr th {\n",
       "        vertical-align: top;\n",
       "    }\n",
       "\n",
       "    .dataframe thead th {\n",
       "        text-align: right;\n",
       "    }\n",
       "</style>\n",
       "<table border=\"1\" class=\"dataframe\">\n",
       "  <thead>\n",
       "    <tr style=\"text-align: right;\">\n",
       "      <th></th>\n",
       "      <th>Fact</th>\n",
       "      <th>2020-03-31</th>\n",
       "      <th>2021-03-31</th>\n",
       "    </tr>\n",
       "  </thead>\n",
       "  <tbody>\n",
       "    <tr>\n",
       "      <th>0</th>\n",
       "      <td>FixedAssets</td>\n",
       "      <td>17285.0</td>\n",
       "      <td>12964.0</td>\n",
       "    </tr>\n",
       "    <tr>\n",
       "      <th>1</th>\n",
       "      <td>CurrentAssets</td>\n",
       "      <td>21842.0</td>\n",
       "      <td>39112.0</td>\n",
       "    </tr>\n",
       "    <tr>\n",
       "      <th>2</th>\n",
       "      <td>CreditorsWithinOneYear</td>\n",
       "      <td>19036.0</td>\n",
       "      <td>19770.0</td>\n",
       "    </tr>\n",
       "    <tr>\n",
       "      <th>3</th>\n",
       "      <td>NetCurrentAssetsLiabilities</td>\n",
       "      <td>2806.0</td>\n",
       "      <td>19342.0</td>\n",
       "    </tr>\n",
       "    <tr>\n",
       "      <th>4</th>\n",
       "      <td>TotalAssetsLessCurrentLiabilities</td>\n",
       "      <td>20091.0</td>\n",
       "      <td>32306.0</td>\n",
       "    </tr>\n",
       "    <tr>\n",
       "      <th>5</th>\n",
       "      <td>CreditorsAfterOneYear</td>\n",
       "      <td>0.0</td>\n",
       "      <td>25000.0</td>\n",
       "    </tr>\n",
       "    <tr>\n",
       "      <th>6</th>\n",
       "      <td>AccruedLiabilitiesNotExpressedWithinCreditorsS...</td>\n",
       "      <td>1165.0</td>\n",
       "      <td>0.0</td>\n",
       "    </tr>\n",
       "    <tr>\n",
       "      <th>7</th>\n",
       "      <td>NetAssetsLiabilities</td>\n",
       "      <td>18926.0</td>\n",
       "      <td>7306.0</td>\n",
       "    </tr>\n",
       "    <tr>\n",
       "      <th>8</th>\n",
       "      <td>Equity</td>\n",
       "      <td>18926.0</td>\n",
       "      <td>7306.0</td>\n",
       "    </tr>\n",
       "  </tbody>\n",
       "</table>\n",
       "</div>"
      ],
      "text/plain": [
       "                                                Fact  2020-03-31  2021-03-31\n",
       "0                                        FixedAssets     17285.0     12964.0\n",
       "1                                      CurrentAssets     21842.0     39112.0\n",
       "2                             CreditorsWithinOneYear     19036.0     19770.0\n",
       "3                        NetCurrentAssetsLiabilities      2806.0     19342.0\n",
       "4                  TotalAssetsLessCurrentLiabilities     20091.0     32306.0\n",
       "5                              CreditorsAfterOneYear         0.0     25000.0\n",
       "6  AccruedLiabilitiesNotExpressedWithinCreditorsS...      1165.0         0.0\n",
       "7                               NetAssetsLiabilities     18926.0      7306.0\n",
       "8                                             Equity     18926.0      7306.0"
      ]
     },
     "execution_count": 6,
     "metadata": {},
     "output_type": "execute_result"
    }
   ],
   "source": [
    "pl"
   ]
  },
  {
   "cell_type": "code",
   "execution_count": 7,
   "id": "abf0de83",
   "metadata": {},
   "outputs": [
    {
     "name": "stdout",
     "output_type": "stream",
     "text": [
      "Period Start Date: 2020-03-31\n",
      "Period End Date: 2021-03-31\n"
     ]
    }
   ],
   "source": [
    "print(f'Period Start Date: {start}') \n",
    "print(f'Period End Date: {end}')\n"
   ]
  },
  {
   "cell_type": "code",
   "execution_count": 8,
   "id": "f9fbc325",
   "metadata": {},
   "outputs": [
    {
     "name": "stdout",
     "output_type": "stream",
     "text": [
      "Company Registration Number: 07676340\n"
     ]
    }
   ],
   "source": [
    "print(f'Company Registration Number: {reg_number}')"
   ]
  },
  {
   "cell_type": "code",
   "execution_count": 9,
   "id": "19fc861b",
   "metadata": {},
   "outputs": [
    {
     "data": {
      "text/html": [
       "<div>\n",
       "<style scoped>\n",
       "    .dataframe tbody tr th:only-of-type {\n",
       "        vertical-align: middle;\n",
       "    }\n",
       "\n",
       "    .dataframe tbody tr th {\n",
       "        vertical-align: top;\n",
       "    }\n",
       "\n",
       "    .dataframe thead th {\n",
       "        text-align: right;\n",
       "    }\n",
       "</style>\n",
       "<table border=\"1\" class=\"dataframe\">\n",
       "  <thead>\n",
       "    <tr style=\"text-align: right;\">\n",
       "      <th></th>\n",
       "      <th>AddressLine1</th>\n",
       "      <th>PrincipalLocation-CityOrTown</th>\n",
       "      <th>PostalCodeZip</th>\n",
       "    </tr>\n",
       "  </thead>\n",
       "  <tbody>\n",
       "    <tr>\n",
       "      <th>0</th>\n",
       "      <td>7 CAER STREET</td>\n",
       "      <td>SWANSEA</td>\n",
       "      <td>SA1 3PP</td>\n",
       "    </tr>\n",
       "  </tbody>\n",
       "</table>\n",
       "</div>"
      ],
      "text/plain": [
       "    AddressLine1 PrincipalLocation-CityOrTown PostalCodeZip\n",
       "0  7 CAER STREET                      SWANSEA       SA1 3PP"
      ]
     },
     "execution_count": 9,
     "metadata": {},
     "output_type": "execute_result"
    }
   ],
   "source": [
    "address"
   ]
  },
  {
   "cell_type": "code",
   "execution_count": 10,
   "id": "57fd85f9",
   "metadata": {},
   "outputs": [
    {
     "data": {
      "text/plain": [
       "{'columns': ['AddressLine1', 'PrincipalLocation-CityOrTown', 'PostalCodeZip'],\n",
       " 'data': [['7 CAER STREET', 'SWANSEA', 'SA1 3PP']]}"
      ]
     },
     "execution_count": 10,
     "metadata": {},
     "output_type": "execute_result"
    }
   ],
   "source": [
    "json.loads(address.to_json(index=False, orient='split'))\n"
   ]
  },
  {
   "cell_type": "code",
   "execution_count": 11,
   "id": "968f9a31",
   "metadata": {},
   "outputs": [
    {
     "data": {
      "text/plain": [
       "{'columns': ['Fact', '2020-03-31', '2021-03-31'],\n",
       " 'data': [['FixedAssets', 17285.0, 12964.0],\n",
       "  ['CurrentAssets', 21842.0, 39112.0],\n",
       "  ['CreditorsWithinOneYear', 19036.0, 19770.0],\n",
       "  ['NetCurrentAssetsLiabilities', 2806.0, 19342.0],\n",
       "  ['TotalAssetsLessCurrentLiabilities', 20091.0, 32306.0],\n",
       "  ['CreditorsAfterOneYear', 0.0, 25000.0],\n",
       "  ['AccruedLiabilitiesNotExpressedWithinCreditorsSubtotal', 1165.0, 0.0],\n",
       "  ['NetAssetsLiabilities', 18926.0, 7306.0],\n",
       "  ['Equity', 18926.0, 7306.0]]}"
      ]
     },
     "execution_count": 11,
     "metadata": {},
     "output_type": "execute_result"
    }
   ],
   "source": [
    "json.loads(pl.to_json(date_format='iso', index=False, orient='split'))\n"
   ]
  },
  {
   "cell_type": "code",
   "execution_count": 14,
   "id": "f418b10a",
   "metadata": {},
   "outputs": [],
   "source": [
    "x = {\n",
    "    'registration': reg_number,\n",
    "    'reporting_period': {'start': start, 'end': end},\n",
    "    'address': json.loads(address.to_json(index=False, orient='split')),\n",
    "    'financial_data': json.loads(pl.to_json(date_format='iso', index=False, orient='split'))\n",
    "}"
   ]
  },
  {
   "cell_type": "code",
   "execution_count": 21,
   "id": "8e80c8bd",
   "metadata": {},
   "outputs": [],
   "source": [
    "with open('accout_output.json', 'w') as f:\n",
    "    json.dump(x, f, indent=4)"
   ]
  },
  {
   "cell_type": "code",
   "execution_count": null,
   "id": "06937f07",
   "metadata": {},
   "outputs": [],
   "source": []
  }
 ],
 "metadata": {
  "kernelspec": {
   "display_name": "Python 3.9.13 ('DefaultDataScience')",
   "language": "python",
   "name": "python3"
  },
  "language_info": {
   "codemirror_mode": {
    "name": "ipython",
    "version": 3
   },
   "file_extension": ".py",
   "mimetype": "text/x-python",
   "name": "python",
   "nbconvert_exporter": "python",
   "pygments_lexer": "ipython3",
   "version": "3.9.13"
  },
  "vscode": {
   "interpreter": {
    "hash": "8270e447217dfb8aa50efce57c8b0fee6196620bc8c4c1bb30fc34f6cadd18e6"
   }
  }
 },
 "nbformat": 4,
 "nbformat_minor": 5
}
