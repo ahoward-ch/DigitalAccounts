{
 "cells": [
  {
   "cell_type": "code",
   "execution_count": 2,
   "id": "497c13ec",
   "metadata": {},
   "outputs": [],
   "source": [
    "import logging\n",
    "from xbrl.cache import HttpCache\n",
    "from xbrl.instance import XbrlParser, XbrlInstance\n",
    "import json\n",
    "from xbrl.linkbase import PresentationArc\n",
    "from xbrl.instance import parse_xbrl_url"
   ]
  },
  {
   "cell_type": "code",
   "execution_count": 3,
   "id": "b4930a3e",
   "metadata": {
    "scrolled": false
   },
   "outputs": [
    {
     "name": "stderr",
     "output_type": "stream",
     "text": [
      "WARNING:root:Could not transform value \"2\" with format ixt2:numdotdecimal\n",
      "WARNING:root:Could not transform value \"2\" with format ixt2:numdotdecimal\n",
      "WARNING:root:Could not transform value \"2\" with format ixt2:numdotdecimal\n",
      "WARNING:root:Could not transform value \"2\" with format ixt2:numdotdecimal\n",
      "WARNING:root:Could not transform value \"2\" with format ixt2:numdotdecimal\n",
      "WARNING:root:Could not transform value \"1\" with format ixt2:numdotdecimal\n",
      "WARNING:root:Could not transform value \"2\" with format ixt2:numdotdecimal\n",
      "WARNING:root:Could not transform value \"2\" with format ixt2:numdotdecimal\n",
      "WARNING:root:Could not transform value \"31 January 2021\" with format ixt2:datedaymonthyearen\n",
      "WARNING:root:Could not transform value \"31 October 2021\" with format ixt2:datedaymonthyearen\n"
     ]
    }
   ],
   "source": [
    "logging.basicConfig(level=logging.INFO)\n",
    "\n",
    "cache: HttpCache = HttpCache('./cache10')\n",
    "cache.set_headers({'From': 'ahoward@companieshouse.gov.uk', 'User-Agent': 'py-xbrl/2.1.0'})\n",
    "parser = XbrlParser(cache)\n",
    "\n",
    "schema_dorm = \"./AccountsData/11790215_aa_2021-10-31.xhtml\"\n",
    "schema_acti = './AccountsData/07676340_aa_2021-12-29.xhtml'\n",
    "schema_spac = './AccountsData/07804038_aa_2021-08-27.xhtml'\n",
    "inst: XbrlInstance = parser.parse_instance(schema_dorm)"
   ]
  },
  {
   "cell_type": "code",
   "execution_count": 44,
   "id": "cf3ec95c",
   "metadata": {},
   "outputs": [
    {
     "data": {
      "text/plain": [
       "'11790215_aa_2021-10-31.xhtml with 29 facts'"
      ]
     },
     "execution_count": 44,
     "metadata": {},
     "output_type": "execute_result"
    }
   ],
   "source": [
    "inst.__str__()"
   ]
  },
  {
   "cell_type": "code",
   "execution_count": 45,
   "id": "570d7b64",
   "metadata": {},
   "outputs": [],
   "source": [
    "x = json.loads(inst.json(override_fact_ids=False))"
   ]
  },
  {
   "cell_type": "code",
   "execution_count": 46,
   "id": "5afa129c",
   "metadata": {},
   "outputs": [
    {
     "data": {
      "text/plain": [
       "{'f0': {'dimensions': {'unit': 'iso4217:GBP',\n",
       "   'concept': 'CalledUpShareCapitalNotPaidNotExpressedAsCurrentAsset',\n",
       "   'entity': '11790215',\n",
       "   'period': '2021-01-31'},\n",
       "  'decimals': 0,\n",
       "  'value': '2'},\n",
       " 'f1': {'dimensions': {'unit': 'iso4217:GBP',\n",
       "   'concept': 'CalledUpShareCapitalNotPaidNotExpressedAsCurrentAsset',\n",
       "   'entity': '11790215',\n",
       "   'period': '2020-01-31'},\n",
       "  'decimals': 0,\n",
       "  'value': '2'},\n",
       " 'f2': {'dimensions': {'unit': 'iso4217:GBP',\n",
       "   'concept': 'NetAssetsLiabilities',\n",
       "   'entity': '11790215',\n",
       "   'period': '2021-01-31'},\n",
       "  'decimals': 0,\n",
       "  'value': '2'},\n",
       " 'f3': {'dimensions': {'unit': 'iso4217:GBP',\n",
       "   'concept': 'NetAssetsLiabilities',\n",
       "   'entity': '11790215',\n",
       "   'period': '2020-01-31'},\n",
       "  'decimals': 0,\n",
       "  'value': '2'},\n",
       " 'f4': {'dimensions': {'unit': 'xbrli:shares',\n",
       "   'concept': 'NumberSharesAllotted',\n",
       "   'entity': '11790215',\n",
       "   'period': '2020-02-01/2021-01-31',\n",
       "   'EntityShareClassesDimension': 'OrdinaryShareClass1'},\n",
       "  'decimals': 2,\n",
       "  'value': '2'},\n",
       " 'f5': {'dimensions': {'unit': 'iso4217:GBP',\n",
       "   'concept': 'ParValueShare',\n",
       "   'entity': '11790215',\n",
       "   'period': '2020-02-01/2021-01-31',\n",
       "   'EntityShareClassesDimension': 'OrdinaryShareClass1'},\n",
       "  'decimals': 0,\n",
       "  'value': '1'},\n",
       " 'f6': {'dimensions': {'unit': 'iso4217:GBP',\n",
       "   'concept': 'Equity',\n",
       "   'entity': '11790215',\n",
       "   'period': '2021-01-31'},\n",
       "  'decimals': 0,\n",
       "  'value': '2'},\n",
       " 'f7': {'dimensions': {'unit': 'iso4217:GBP',\n",
       "   'concept': 'Equity',\n",
       "   'entity': '11790215',\n",
       "   'period': '2020-01-31'},\n",
       "  'decimals': 0,\n",
       "  'value': '2'},\n",
       " 'f8': {'value': 'Companies House',\n",
       "  'dimensions': {'concept': 'NameProductionSoftware',\n",
       "   'entity': '11790215',\n",
       "   'period': '2020-02-01/2021-01-31'}},\n",
       " 'f9': {'value': '',\n",
       "  'dimensions': {'concept': 'DirectorSigningFinancialStatements',\n",
       "   'entity': '11790215',\n",
       "   'period': '2020-02-01/2021-01-31',\n",
       "   'EntityOfficersDimension': 'Director1'}},\n",
       " 'f10': {'value': '',\n",
       "  'dimensions': {'concept': 'DirectorSigningFinancialStatements',\n",
       "   'entity': '11790215',\n",
       "   'period': '2020-02-01/2021-01-31',\n",
       "   'EntityOfficersDimension': 'Director2'}},\n",
       " 'f11': {'value': 'true',\n",
       "  'dimensions': {'concept': 'EntityDormantTruefalse',\n",
       "   'entity': '11790215',\n",
       "   'period': '2020-02-01/2021-01-31'}},\n",
       " 'f12': {'value': '2020-02-01',\n",
       "  'dimensions': {'concept': 'StartDateForPeriodCoveredByReport',\n",
       "   'entity': '11790215',\n",
       "   'period': '2021-01-31'}},\n",
       " 'f13': {'value': '2021-01-31',\n",
       "  'dimensions': {'concept': 'EndDateForPeriodCoveredByReport',\n",
       "   'entity': '11790215',\n",
       "   'period': '2021-01-31'}},\n",
       " 'f14': {'value': '',\n",
       "  'dimensions': {'concept': 'EntityTradingStatus',\n",
       "   'entity': '11790215',\n",
       "   'period': '2020-02-01/2021-01-31',\n",
       "   'EntityTradingStatusDimension': 'EntityHasNeverTraded'}},\n",
       " 'f15': {'value': '',\n",
       "  'dimensions': {'concept': 'AccountingStandardsApplied',\n",
       "   'entity': '11790215',\n",
       "   'period': '2020-02-01/2021-01-31',\n",
       "   'AccountingStandardsDimension': 'FRS102'}},\n",
       " 'f16': {'value': '',\n",
       "  'dimensions': {'concept': 'AccountsTypeFullOrAbbreviated',\n",
       "   'entity': '11790215',\n",
       "   'period': '2020-02-01/2021-01-31',\n",
       "   'AccountsTypeDimension': 'FullAccounts'}},\n",
       " 'f17': {'value': '',\n",
       "  'dimensions': {'concept': 'AccountsStatusAuditedOrUnaudited',\n",
       "   'entity': '11790215',\n",
       "   'period': '2020-02-01/2021-01-31',\n",
       "   'AccountsStatusDimension': 'AuditExempt-NoAccountantsReport'}},\n",
       " 'f18': {'value': 'true',\n",
       "  'dimensions': {'concept': 'CompanyHasActedAsAnAgentDuringPeriodTruefalse',\n",
       "   'entity': '11790215',\n",
       "   'period': '2020-02-01/2021-01-31'}},\n",
       " 'f19': {'value': '11790215',\n",
       "  'dimensions': {'concept': 'UKCompaniesHouseRegisteredNumber',\n",
       "   'entity': '11790215',\n",
       "   'period': '2020-02-01/2021-01-31'}},\n",
       " 'f20': {'value': 'A LIMITED',\n",
       "  'dimensions': {'concept': 'EntityCurrentLegalOrRegisteredName',\n",
       "   'entity': '11790215',\n",
       "   'period': '2020-02-01/2021-01-31'}},\n",
       " 'f21': {'value': '31 January 2021',\n",
       "  'dimensions': {'concept': 'BalanceSheetDate',\n",
       "   'entity': '11790215',\n",
       "   'period': '2021-01-31'}},\n",
       " 'f22': {'value': 'Ordinary',\n",
       "  'dimensions': {'concept': 'DescriptionShareType',\n",
       "   'entity': '11790215',\n",
       "   'period': '2020-02-01/2021-01-31',\n",
       "   'EntityShareClassesDimension': 'OrdinaryShareClass1'}},\n",
       " 'f23': {'value': 'For the year ending 31 January 2021 the company was entitled to exemption under section 480 of the Companies Act 2006 relating to dormant companies.',\n",
       "  'dimensions': {'concept': 'StatementThatCompanyEntitledToExemptionFromAuditUnderSection480CompaniesAct2006RelatingToDormantCompanies',\n",
       "   'entity': '11790215',\n",
       "   'period': '2020-02-01/2021-01-31'}},\n",
       " 'f24': {'value': 'The members have not required the company to obtain an audit in accordance with section 476 of the Companies Act 2006.',\n",
       "  'dimensions': {'concept': 'StatementThatMembersHaveNotRequiredCompanyToObtainAnAudit',\n",
       "   'entity': '11790215',\n",
       "   'period': '2020-02-01/2021-01-31'}},\n",
       " 'f25': {'value': 'The directors acknowledge their responsibilities for complying with the requirements of the Act with respect to accounting records and the preparation of accounts.',\n",
       "  'dimensions': {'concept': 'StatementThatDirectorsAcknowledgeTheirResponsibilitiesUnderCompaniesAct',\n",
       "   'entity': '11790215',\n",
       "   'period': '2020-02-01/2021-01-31'}},\n",
       " 'f26': {'value': ' These accounts have been prepared in accordance with the provisions applicable to companies subject to the small companies regime.',\n",
       "  'dimensions': {'concept': 'StatementThatAccountsHaveBeenPreparedInAccordanceWithProvisionsSmallCompaniesRegime',\n",
       "   'entity': '11790215',\n",
       "   'period': '2020-02-01/2021-01-31'}},\n",
       " 'f27': {'value': '31 October 2021',\n",
       "  'dimensions': {'concept': 'DateAuthorisationFinancialStatementsForIssue',\n",
       "   'entity': '11790215',\n",
       "   'period': '2021-01-31'}},\n",
       " 'f28': {'value': 'AMMAR SAND',\n",
       "  'dimensions': {'concept': 'NameEntityOfficer',\n",
       "   'entity': '11790215',\n",
       "   'period': '2020-02-01/2021-01-31',\n",
       "   'EntityOfficersDimension': 'Director1'}}}"
      ]
     },
     "execution_count": 46,
     "metadata": {},
     "output_type": "execute_result"
    }
   ],
   "source": [
    "x['facts']"
   ]
  },
  {
   "cell_type": "code",
   "execution_count": 47,
   "id": "c64623b9",
   "metadata": {
    "scrolled": false
   },
   "outputs": [
    {
     "name": "stdout",
     "output_type": "stream",
     "text": [
      "CalledUpShareCapitalNotPaidNotExpressedAsCurrentAsset 2 date=2021-01-31\n",
      "\n",
      "CalledUpShareCapitalNotPaidNotExpressedAsCurrentAsset 2 date=2020-01-31\n",
      "\n",
      "NetAssetsLiabilities 2 date=2021-01-31\n",
      "\n",
      "NetAssetsLiabilities 2 date=2020-01-31\n",
      "\n",
      "NumberSharesAllotted 2 \n",
      "\n",
      "ParValueShare 1 \n",
      "\n",
      "Equity 2 date=2021-01-31\n",
      "\n",
      "Equity 2 date=2020-01-31\n",
      "\n",
      "NameProductionSoftware Companies House \n",
      "\n",
      "DirectorSigningFinancialStatements  \n",
      "\n",
      "DirectorSigningFinancialStatements  \n",
      "\n",
      "EntityDormantTruefalse true \n",
      "\n",
      "StartDateForPeriodCoveredByReport 2020-02-01 date=2021-01-31\n",
      "\n",
      "EndDateForPeriodCoveredByReport 2021-01-31 date=2021-01-31\n",
      "\n",
      "EntityTradingStatus  \n",
      "\n",
      "AccountingStandardsApplied  \n",
      "\n",
      "AccountsTypeFullOrAbbreviated  \n",
      "\n",
      "AccountsStatusAuditedOrUnaudited  \n",
      "\n",
      "CompanyHasActedAsAnAgentDuringPeriodTruefalse true \n",
      "\n",
      "UKCompaniesHouseRegisteredNumber 11790215 \n",
      "\n",
      "EntityCurrentLegalOrRegisteredName A LIMITED \n",
      "\n",
      "BalanceSheetDate 31 January 2021 date=2021-01-31\n",
      "\n",
      "DescriptionShareType Ordinary \n",
      "\n",
      "StatementThatCompanyEntitledToExemptionFromAuditUnderSection480CompaniesAct2006RelatingToDormantCompanies For the year ending 31 January 2021 the company was entitled to exemption under section 480 of the Companies Act 2006 relating to dormant companies. \n",
      "\n",
      "StatementThatMembersHaveNotRequiredCompanyToObtainAnAudit The members have not required the company to obtain an audit in accordance with section 476 of the Companies Act 2006. \n",
      "\n",
      "StatementThatDirectorsAcknowledgeTheirResponsibilitiesUnderCompaniesAct The directors acknowledge their responsibilities for complying with the requirements of the Act with respect to accounting records and the preparation of accounts. \n",
      "\n",
      "StatementThatAccountsHaveBeenPreparedInAccordanceWithProvisionsSmallCompaniesRegime  These accounts have been prepared in accordance with the provisions applicable to companies subject to the small companies regime. \n",
      "\n",
      "DateAuthorisationFinancialStatementsForIssue 31 October 2021 date=2021-01-31\n",
      "\n",
      "NameEntityOfficer AMMAR SAND \n",
      "\n"
     ]
    }
   ],
   "source": [
    "for fact in inst.facts:\n",
    "    try:\n",
    "        print(fact.concept.name, fact.value, f'date={fact.context.instant_date}' '\\n')\n",
    "    except:\n",
    "        print(fact.concept.name, fact.value, '\\n')"
   ]
  },
  {
   "cell_type": "code",
   "execution_count": 48,
   "id": "1e44014a",
   "metadata": {
    "scrolled": true
   },
   "outputs": [],
   "source": [
    "a = 'StatementThatCompanyEntitledToExemptionFromAuditUnderSection480CompaniesAct2006RelatingToDormantCompanies'\n",
    "b = 'StatementThatMembersHaveNotRequiredCompanyToObtainAnAudit'"
   ]
  },
  {
   "cell_type": "code",
   "execution_count": 49,
   "id": "3ba0d843",
   "metadata": {},
   "outputs": [
    {
     "data": {
      "text/plain": [
       "list"
      ]
     },
     "execution_count": 49,
     "metadata": {},
     "output_type": "execute_result"
    }
   ],
   "source": [
    "type(inst.facts)"
   ]
  },
  {
   "cell_type": "code",
   "execution_count": 53,
   "id": "ccc58f79",
   "metadata": {},
   "outputs": [
    {
     "name": "stdout",
     "output_type": "stream",
     "text": [
      "Company 11790215.\n",
      "Company registered as Dormant.\n",
      "Has statement of exemption Section 480 True\n",
      "Has statement of non-audit Section 476 True\n"
     ]
    }
   ],
   "source": [
    "s480 = False\n",
    "s476 = False\n",
    "for fact in inst.facts:\n",
    "    if fact.concept.name == 'EntityDormantTruefalse':\n",
    "        dormant = (fact.value.lower() == 'true')\n",
    "        for sub_fact in inst.facts:\n",
    "            #print(sub_fact.concept.name)\n",
    "            if sub_fact.concept.name == a:\n",
    "                s480 = True\n",
    "            if sub_fact.concept.name == b:\n",
    "                s476 = True\n",
    "    if fact.concept.name == 'UKCompaniesHouseRegisteredNumber':\n",
    "        RegNo = fact.value\n",
    "        \n",
    "print(f'Company {RegNo}.')\n",
    "if dormant:\n",
    "    print('Company registered as Dormant.')\n",
    "    print(f'Has statement of exemption Section 480 {s480}')\n",
    "    print(f'Has statement of non-audit Section 476 {s476}')"
   ]
  },
  {
   "cell_type": "code",
   "execution_count": 9,
   "id": "caaf9550",
   "metadata": {},
   "outputs": [],
   "source": [
    "s = 'For the year ending 31 January 2021 the company was entitled to exemption under section 480 of the Companies Act 2006 relating to dormant companies.'"
   ]
  },
  {
   "cell_type": "code",
   "execution_count": 24,
   "id": "ace6ba30",
   "metadata": {},
   "outputs": [
    {
     "data": {
      "text/plain": [
       "'480'"
      ]
     },
     "execution_count": 24,
     "metadata": {},
     "output_type": "execute_result"
    }
   ],
   "source": []
  },
  {
   "cell_type": "code",
   "execution_count": 55,
   "id": "bf5f0164",
   "metadata": {},
   "outputs": [],
   "source": [
    "t =  ['section'+e for e in s.split('section', 1) if e]"
   ]
  },
  {
   "cell_type": "code",
   "execution_count": 56,
   "id": "cdf2f3c5",
   "metadata": {},
   "outputs": [
    {
     "data": {
      "text/plain": [
       "['', ' 480']"
      ]
     },
     "execution_count": 56,
     "metadata": {},
     "output_type": "execute_result"
    }
   ],
   "source": [
    "s.split('section', 1)"
   ]
  },
  {
   "cell_type": "code",
   "execution_count": null,
   "id": "fb30bfe8",
   "metadata": {},
   "outputs": [],
   "source": []
  },
  {
   "cell_type": "code",
   "execution_count": 57,
   "id": "64861dd6",
   "metadata": {},
   "outputs": [
    {
     "data": {
      "text/plain": [
       "['section 480']"
      ]
     },
     "execution_count": 57,
     "metadata": {},
     "output_type": "execute_result"
    }
   ],
   "source": [
    "t"
   ]
  },
  {
   "cell_type": "code",
   "execution_count": null,
   "id": "ee24adfc",
   "metadata": {},
   "outputs": [],
   "source": []
  }
 ],
 "metadata": {
  "kernelspec": {
   "display_name": "Python 3 (ipykernel)",
   "language": "python",
   "name": "python3"
  },
  "language_info": {
   "codemirror_mode": {
    "name": "ipython",
    "version": 3
   },
   "file_extension": ".py",
   "mimetype": "text/x-python",
   "name": "python",
   "nbconvert_exporter": "python",
   "pygments_lexer": "ipython3",
   "version": "3.9.13"
  }
 },
 "nbformat": 4,
 "nbformat_minor": 5
}
