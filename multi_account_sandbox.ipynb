{
 "cells": [
  {
   "cell_type": "code",
   "execution_count": 1,
   "metadata": {},
   "outputs": [],
   "source": [
    "from os import path, listdir\n",
    "import pandas as pd\n",
    "from tqdm.notebook import tqdm\n",
    "from os import listdir, path, stat\n",
    "import logging\n",
    "from xbrl.cache import HttpCache\n",
    "from xbrl.instance import XbrlParser\n",
    "import json\n",
    "import uuid\n",
    "from pymongo import MongoClient\n",
    "from datetime import datetime\n"
   ]
  },
  {
   "cell_type": "code",
   "execution_count": 2,
   "metadata": {},
   "outputs": [],
   "source": [
    "from digiaccounts.digiaccounts_data import (\n",
    "    get_financial_table,\n",
    "    get_startend_period,\n",
    "    get_company_address,\n",
    "    get_company_registration,\n",
    "    get_accounting_software,\n",
    "    get_share_info,\n",
    "    get_director_names,\n",
    "    get_company_postcodes,\n",
    "    get_average_employees,\n",
    "    get_dormant_state\n",
    ")\n",
    "\n",
    "from digiaccounts.digiaccounts_io import (\n",
    "    get_account_information_dictionary,\n",
    "    add_account_to_collection,\n",
    "    create_unique_id\n",
    ")"
   ]
  },
  {
   "cell_type": "code",
   "execution_count": 3,
   "metadata": {},
   "outputs": [],
   "source": [
    "def get_database(dbname):\n",
    "\n",
    "    CONNECTION_STRING = 'mongodb://localhost:27017'\n",
    "\n",
    "    client = MongoClient(CONNECTION_STRING)\n",
    "\n",
    "    return client[dbname]"
   ]
  },
  {
   "cell_type": "code",
   "execution_count": 4,
   "metadata": {},
   "outputs": [],
   "source": [
    "mongodb = get_database('annual_accounts_db')\n",
    "filed_accounts = mongodb['filed_accounts']\n",
    "index_accounts = mongodb['index_accounts']"
   ]
  },
  {
   "cell_type": "code",
   "execution_count": 48,
   "metadata": {},
   "outputs": [
    {
     "data": {
      "text/plain": [
       "946"
      ]
     },
     "execution_count": 48,
     "metadata": {},
     "output_type": "execute_result"
    }
   ],
   "source": [
    "documents = filed_accounts.distinct('registration_number')\n",
    "len(documents)"
   ]
  },
  {
   "cell_type": "code",
   "execution_count": 49,
   "metadata": {},
   "outputs": [
    {
     "name": "stdout",
     "output_type": "stream",
     "text": [
      "{'_id': None, 'maxCount': 4, 'minCount': 1, 'avgCount': 3.799154334038055}\n"
     ]
    }
   ],
   "source": [
    "documents = filed_accounts.aggregate(\n",
    "    [ \n",
    "        {   \n",
    "            \"$group\":  { \n",
    "                    \"_id\": \"$registration_number\", \n",
    "                    \"count\": { \"$sum\": 1 } \n",
    "                } \n",
    "        },\n",
    "        {\n",
    "            \"$group\": {\n",
    "                \"_id\": None, \n",
    "                \"maxCount\": { \"$max\": \"$count\" },\n",
    "                \"minCount\": { \"$min\": \"$count\" },\n",
    "                \"avgCount\": { \"$avg\": \"$count\" }\n",
    "            }\n",
    "        }\n",
    "    ]    \n",
    ")\n",
    "for d in documents:\n",
    "    print(d)"
   ]
  },
  {
   "cell_type": "code",
   "execution_count": 47,
   "metadata": {},
   "outputs": [
    {
     "name": "stdout",
     "output_type": "stream",
     "text": [
      "{'_id': 'Ending 2018', 'entityCount': 193, 'maxEmployees': 71.0, 'minEmployees': 1.0, 'avgEmployees': 5.44559585492228}\n",
      "{'_id': 'Ending 2019', 'entityCount': 220, 'maxEmployees': 73.0, 'minEmployees': 1.0, 'avgEmployees': 5.345454545454546}\n",
      "{'_id': 'Ending 2020', 'entityCount': 290, 'maxEmployees': 133.0, 'minEmployees': 1.0, 'avgEmployees': 5.0344827586206895}\n",
      "{'_id': 'Ending 2021', 'entityCount': 502, 'maxEmployees': 148.0, 'minEmployees': 1.0, 'avgEmployees': 4.075697211155378}\n"
     ]
    }
   ],
   "source": [
    "documents = filed_accounts.aggregate(\n",
    "    [\n",
    "        {\n",
    "            \"$match\": {\n",
    "                \"$and\": [\n",
    "                    {\"$expr\": {\"$lt\": [{\"$dateFromString\": {\"dateString\": \"$period_ending\"}}, datetime.strptime('20180331', \"%Y%m%d\")]}},\n",
    "                    {\"is_dormant\": {'$eq':False}},\n",
    "                    {\"$expr\": {\"$gt\": [{\"$toDouble\": \"$average_employees\"}, 0]}}\n",
    "                ]\n",
    "            }\n",
    "        },\n",
    "        {\n",
    "           \"$group\": {\n",
    "                \"_id\": 'Ending 2018', \n",
    "                \"entityCount\": {\"$sum\": 1},\n",
    "                \"maxEmployees\": { \"$max\": {\"$toDouble\": \"$average_employees\" } },\n",
    "                \"minEmployees\": { \"$min\": {\"$toDouble\": \"$average_employees\" } },\n",
    "                \"avgEmployees\": { \"$avg\": {\"$toDouble\": \"$average_employees\" } }\n",
    "            } \n",
    "        }\n",
    "    ]\n",
    ")\n",
    "for d in documents:\n",
    "    print(d)\n",
    "\n",
    "documents = filed_accounts.aggregate(\n",
    "    [\n",
    "        {\n",
    "            \"$match\": {\n",
    "                \"$and\": [\n",
    "                    {\"$expr\": {\"$gte\": [{\"$dateFromString\": {\"dateString\": \"$period_ending\"}}, datetime.strptime('20180331', \"%Y%m%d\")]}},\n",
    "                    {\"$expr\": {\"$lt\": [{\"$dateFromString\": {\"dateString\": \"$period_ending\"}}, datetime.strptime('20190331', \"%Y%m%d\")]}},\n",
    "                    {\"is_dormant\": {'$eq':False}},\n",
    "                    {\"$expr\": {\"$gt\": [{\"$toDouble\": \"$average_employees\"}, 0]}}\n",
    "                ]\n",
    "                \n",
    "            }\n",
    "        },\n",
    "        {\n",
    "           \"$group\": {\n",
    "                \"_id\": 'Ending 2019', \n",
    "                \"entityCount\": {\"$sum\": 1},\n",
    "                \"maxEmployees\": { \"$max\": {\"$toDouble\": \"$average_employees\" } },\n",
    "                \"minEmployees\": { \"$min\": {\"$toDouble\": \"$average_employees\" } },\n",
    "                \"avgEmployees\": { \"$avg\": {\"$toDouble\": \"$average_employees\" } }\n",
    "            } \n",
    "        }\n",
    "    ]\n",
    ")\n",
    "for d in documents:\n",
    "    print(d)\n",
    "\n",
    "documents = filed_accounts.aggregate(\n",
    "    [\n",
    "        {\n",
    "            \"$match\": {\n",
    "                    \"$and\": [\n",
    "                    {\"$expr\": {\"$gte\": [{\"$dateFromString\": {\"dateString\": \"$period_ending\"}}, datetime.strptime('20190331', \"%Y%m%d\")]}},\n",
    "                    {\"$expr\": {\"$lt\": [{\"$dateFromString\": {\"dateString\": \"$period_ending\"}}, datetime.strptime('20200331', \"%Y%m%d\")]}},\n",
    "                    {\"is_dormant\": {'$eq':False}},\n",
    "                    {\"$expr\": {\"$gt\": [{\"$toDouble\": \"$average_employees\"}, 0]}}\n",
    "                ]\n",
    "            }\n",
    "        },\n",
    "        {\n",
    "           \"$group\": {\n",
    "                \"_id\": 'Ending 2020',\n",
    "                \"entityCount\": {\"$sum\": 1}, \n",
    "                \"maxEmployees\": { \"$max\": {\"$toDouble\": \"$average_employees\" } },\n",
    "                \"minEmployees\": { \"$min\": {\"$toDouble\": \"$average_employees\" } },\n",
    "                \"avgEmployees\": { \"$avg\": {\"$toDouble\": \"$average_employees\" } }\n",
    "            } \n",
    "        }\n",
    "    ]\n",
    ")\n",
    "for d in documents:\n",
    "    print(d)\n",
    "\n",
    "documents = filed_accounts.aggregate(\n",
    "    [\n",
    "        {\n",
    "            \"$match\": {\n",
    "                \"$and\": [\n",
    "                    {\"$expr\": {\"$gte\": [{\"$dateFromString\": {\"dateString\": \"$period_ending\"}}, datetime.strptime('20200331', \"%Y%m%d\")]}},\n",
    "                    {\"$expr\": {\"$lt\": [{\"$dateFromString\": {\"dateString\": \"$period_ending\"}}, datetime.strptime('20210331', \"%Y%m%d\")]}},\n",
    "                    {\"is_dormant\": {'$eq':False}},\n",
    "                    {\"$expr\": {\"$gte\": [{\"$toDouble\": \"$average_employees\"}, 1]}}\n",
    "                ]\n",
    "            }\n",
    "        },\n",
    "        {\n",
    "            \"$group\": {\n",
    "                \"_id\": 'Ending 2021',\n",
    "                \"entityCount\": {\"$sum\": 1},\n",
    "                \"maxEmployees\": {\"$max\": {\"$toDouble\": \"$average_employees\"}},\n",
    "                \"minEmployees\": {\"$min\": {\"$toDouble\": \"$average_employees\"}},\n",
    "                \"avgEmployees\": {\"$avg\": {\"$toDouble\": \"$average_employees\"}}\n",
    "            }\n",
    "        }\n",
    "    ]\n",
    ")\n",
    "for d in documents:\n",
    "    print(d)\n"
   ]
  },
  {
   "cell_type": "code",
   "execution_count": 50,
   "metadata": {},
   "outputs": [
    {
     "name": "stdout",
     "output_type": "stream",
     "text": [
      "Started/Resumed Trading\n",
      "10580630\n",
      "04515463\n",
      "10247582\n",
      "08121495\n",
      "03711522\n",
      "09657764\n",
      "10256916\n",
      "10628870\n",
      "07277420\n",
      "06578711\n"
     ]
    }
   ],
   "source": [
    "query1 = {'$and':[\n",
    "    \n",
    "        {\"$expr\": {\n",
    "            \"$lt\": [{ \"$dateFromString\": { \"dateString\": \"$period_ending\" }}, datetime.strptime('20180331', \"%Y%m%d\") ]\n",
    "        }},\n",
    "        {\"is_dormant\": {'$eq':True}}\n",
    "    ]\n",
    "}\n",
    "\n",
    "query2 = {'$and':[\n",
    "    \n",
    "        {\"$expr\": {\n",
    "            \"$gte\": [{ \"$dateFromString\": { \"dateString\": \"$period_ending\" }}, datetime.strptime('20200331', \"%Y%m%d\") ]\n",
    "        }},\n",
    "        {\"is_dormant\": {'$eq':False}}\n",
    "    ]\n",
    "}\n",
    "\n",
    "query_comb = {'$or': [\n",
    "        query1,\n",
    "        query2\n",
    "    ]\n",
    "}\n",
    "\n",
    "documents = filed_accounts.aggregate(\n",
    "    [\n",
    "        {\n",
    "            \"$match\": query_comb\n",
    "        },\n",
    "        {\n",
    "            \"$group\": {\n",
    "                \"_id\": \"$registration_number\",\n",
    "                \"reg_filter_count\": {\"$sum\": 1} \n",
    "            }\n",
    "        },\n",
    "        {\n",
    "            \"$match\": {\n",
    "                \"$expr\": {\n",
    "                    \"$gt\": [\"$reg_filter_count\", 1]\n",
    "                }\n",
    "            }\n",
    "        }\n",
    "    ]\n",
    ")\n",
    "print('Started/Resumed Trading')\n",
    "for d in documents:\n",
    "    print(d['_id'])"
   ]
  },
  {
   "cell_type": "code",
   "execution_count": 53,
   "metadata": {},
   "outputs": [
    {
     "name": "stdout",
     "output_type": "stream",
     "text": [
      "Became Dormant\n",
      "05846658\n",
      "02486387\n",
      "06581433\n",
      "07683147\n",
      "06611142\n",
      "06960777\n",
      "08103435\n",
      "07039319\n",
      "08422579\n",
      "09089125\n",
      "05720886\n",
      "05147948\n",
      "05236303\n",
      "00681513\n",
      "07859429\n",
      "06014577\n",
      "09426738\n",
      "06528091\n",
      "08582970\n",
      "09624376\n",
      "3002097\n",
      "03143441\n",
      "10604085\n",
      "10209911\n"
     ]
    }
   ],
   "source": [
    "query1 = {'$and':[\n",
    "    \n",
    "        {\"$expr\": {\n",
    "            \"$lt\": [{ \"$dateFromString\": { \"dateString\": \"$period_ending\" }}, datetime.strptime('20180331', \"%Y%m%d\") ]\n",
    "        }},\n",
    "        {\"is_dormant\": {'$eq':False}}\n",
    "    ]\n",
    "}\n",
    "\n",
    "query2 = {'$and':[\n",
    "    \n",
    "        {\"$expr\": {\n",
    "            \"$gt\": [{ \"$dateFromString\": { \"dateString\": \"$period_ending\" }}, datetime.strptime('20200331', \"%Y%m%d\") ]\n",
    "        }},\n",
    "        {\"is_dormant\": {'$eq':True}}\n",
    "    ]\n",
    "}\n",
    "\n",
    "query_comb = {'$or': [\n",
    "        query1,\n",
    "        query2\n",
    "    ]\n",
    "}\n",
    "\n",
    "documents = filed_accounts.aggregate(\n",
    "    [\n",
    "        {\n",
    "            \"$match\": query_comb\n",
    "        },\n",
    "        {\n",
    "            \"$group\": {\n",
    "                \"_id\": \"$registration_number\",\n",
    "                \"reg_filter_count\": {\"$sum\": 1} \n",
    "            }\n",
    "        },\n",
    "        {\n",
    "            \"$match\": {\n",
    "                \"$expr\": {\n",
    "                    \"$gt\": [\"$reg_filter_count\", 1]\n",
    "                }\n",
    "            }\n",
    "        }\n",
    "    ]\n",
    ")\n",
    "print('Became Dormant')\n",
    "for d in documents:\n",
    "    print(d['_id'])"
   ]
  },
  {
   "cell_type": "code",
   "execution_count": 52,
   "metadata": {},
   "outputs": [],
   "source": [
    "aggrigation = filed_accounts.aggregate([\n",
    "    {\"$match\": query_comb},\n",
    "    {\"$group\": {\"_id\": \"$registration_number\", }}\n",
    "])\n",
    "results = [a for a in aggrigation]"
   ]
  },
  {
   "cell_type": "code",
   "execution_count": 53,
   "metadata": {},
   "outputs": [
    {
     "data": {
      "text/plain": [
       "[{'_id': '04515463'},\n",
       " {'_id': '02724445'},\n",
       " {'_id': '10249069'},\n",
       " {'_id': '06822086'},\n",
       " {'_id': '04788098'},\n",
       " {'_id': '06945910'},\n",
       " {'_id': '06785422'},\n",
       " {'_id': '03803105'},\n",
       " {'_id': '09466064'},\n",
       " {'_id': '09093655'},\n",
       " {'_id': '08120951'},\n",
       " {'_id': '09630826'},\n",
       " {'_id': '07660429'},\n",
       " {'_id': '04714517'},\n",
       " {'_id': '05837583'},\n",
       " {'_id': '09990722'},\n",
       " {'_id': 'SC220625'},\n",
       " {'_id': '08111277'},\n",
       " {'_id': 'SC380916'},\n",
       " {'_id': '10287329'},\n",
       " {'_id': '08553008'},\n",
       " {'_id': '06943351'},\n",
       " {'_id': '05851896'},\n",
       " {'_id': '10630084'},\n",
       " {'_id': '02619496'},\n",
       " {'_id': '10596497'},\n",
       " {'_id': 'SC344529'},\n",
       " {'_id': 'SC263539'},\n",
       " {'_id': '06937352'},\n",
       " {'_id': '04790107'},\n",
       " {'_id': '05141301'},\n",
       " {'_id': '06270022'},\n",
       " {'_id': '05990787'},\n",
       " {'_id': '01629495'},\n",
       " {'_id': '02244066'},\n",
       " {'_id': '02648944'},\n",
       " {'_id': '07546122'},\n",
       " {'_id': '05473296'},\n",
       " {'_id': '06295115'},\n",
       " {'_id': '06972653'},\n",
       " {'_id': '02213854'},\n",
       " {'_id': '10223920'},\n",
       " {'_id': '05492983'},\n",
       " {'_id': '05142168'},\n",
       " {'_id': '06831118'},\n",
       " {'_id': '05863387'},\n",
       " {'_id': '07130501'},\n",
       " {'_id': '06890043'},\n",
       " {'_id': '05162664'},\n",
       " {'_id': '05453907'},\n",
       " {'_id': '09362442'},\n",
       " {'_id': '06921736'},\n",
       " {'_id': '08581731'},\n",
       " {'_id': '10630585'},\n",
       " {'_id': '07289109'},\n",
       " {'_id': '06236038'},\n",
       " {'_id': '09624830'},\n",
       " {'_id': '04368893'},\n",
       " {'_id': '04297913'},\n",
       " {'_id': '06944981'},\n",
       " {'_id': '05850870'},\n",
       " {'_id': '05782852'},\n",
       " {'_id': '10241135'},\n",
       " {'_id': '00529970'},\n",
       " {'_id': '05991141'},\n",
       " {'_id': '08102951'},\n",
       " {'_id': '03504757'},\n",
       " {'_id': '06533882'},\n",
       " {'_id': '04124994'},\n",
       " {'_id': '04480145'},\n",
       " {'_id': '06217341'},\n",
       " {'_id': '08563715'},\n",
       " {'_id': '10252452'},\n",
       " {'_id': '07679206'},\n",
       " {'_id': '08110973'},\n",
       " {'_id': '03376708'},\n",
       " {'_id': '06578711'},\n",
       " {'_id': '10460429'},\n",
       " {'_id': '03399305'},\n",
       " {'_id': '03970871'},\n",
       " {'_id': '06275308'},\n",
       " {'_id': 'NI044157'},\n",
       " {'_id': '10271413'},\n",
       " {'_id': '06590526'},\n",
       " {'_id': '02944641'}]"
      ]
     },
     "execution_count": 53,
     "metadata": {},
     "output_type": "execute_result"
    }
   ],
   "source": [
    "results"
   ]
  },
  {
   "cell_type": "code",
   "execution_count": 28,
   "metadata": {},
   "outputs": [],
   "source": [
    "root = path.join('C:/Users', 'ahoward', 'Downloads')\n",
    "dir_2018 = 'Accounts_Monthly_Data-March2018'\n",
    "dir_2019 = 'Accounts_Monthly_Data-March2019'\n",
    "dir_2020 = 'Accounts_Monthly_Data-March2020'\n",
    "dir_2021 = 'Accounts_Monthly_Data-March2021'\n",
    "\n",
    "accounts_2018 = path.join(root, dir_2018)\n",
    "accounts_2019 = path.join(root, dir_2019)\n",
    "accounts_2020 = path.join(root, dir_2020)\n",
    "accounts_2021 = path.join(root, dir_2021)"
   ]
  },
  {
   "cell_type": "code",
   "execution_count": 29,
   "metadata": {},
   "outputs": [],
   "source": [
    "files_2018 = listdir(accounts_2018)\n",
    "files_2019 = listdir(accounts_2019)\n",
    "files_2020 = listdir(accounts_2020)\n",
    "files_2021 = listdir(accounts_2021)"
   ]
  },
  {
   "cell_type": "code",
   "execution_count": 30,
   "metadata": {},
   "outputs": [
    {
     "data": {
      "text/plain": [
       "945782"
      ]
     },
     "execution_count": 30,
     "metadata": {},
     "output_type": "execute_result"
    }
   ],
   "source": [
    "files = [path.join(accounts_2018, f) for f in files_2018]\n",
    "files += [path.join(accounts_2019, f) for f in files_2019]\n",
    "files += [path.join(accounts_2020, f) for f in files_2020]\n",
    "files += [path.join(accounts_2021, f) for f in files_2021]\n",
    "\n",
    "# all_size = 0\n",
    "# for f in tqdm(files):\n",
    "#     all_size += stat(f).st_size\n",
    "# print(f'All files size: {all_size} B')\n",
    "# print(f'All files size: {all_size / (1024**2)} MB')\n",
    "# print(f'All files size: {all_size / (1024**3)} GB')\n",
    "len(files)"
   ]
  },
  {
   "cell_type": "code",
   "execution_count": 31,
   "metadata": {},
   "outputs": [],
   "source": [
    "df18 = pd.DataFrame(data=files_2018, columns = ['Files'])\n",
    "df18['RegNo'] = df18['Files'].str.split('_', expand=True)[2]\n",
    "df18['Date'] = pd.to_datetime(df18['Files'].str.split('_', expand=True)[3].str.split('.', expand=True)[0], format='%Y%m%d')\n",
    "df18['Files'] = dir_2018 + '/' + df18['Files'].astype(str)\n",
    "\n",
    "df19 = pd.DataFrame(data=files_2019, columns = ['Files'])\n",
    "df19['RegNo'] = df19['Files'].str.split('_', expand=True)[2]\n",
    "df19['Date'] = pd.to_datetime(df19['Files'].str.split('_', expand=True)[3].str.split('.', expand=True)[0], format='%Y%m%d')\n",
    "df19['Files'] = dir_2019 + '/' + df19['Files'].astype(str)\n",
    "\n",
    "df20 = pd.DataFrame(data=files_2020, columns = ['Files'])\n",
    "df20['RegNo'] = df20['Files'].str.split('_', expand=True)[2]\n",
    "df20['Date'] = pd.to_datetime(df20['Files'].str.split('_', expand=True)[3].str.split('.', expand=True)[0], format='%Y%m%d')\n",
    "df20['Files'] = dir_2020 + '/' + df20['Files'].astype(str)\n",
    "\n",
    "df21 = pd.DataFrame(data=files_2021, columns = ['Files'])\n",
    "df21['RegNo'] = df21['Files'].str.split('_', expand=True)[2]\n",
    "df21['Date'] = pd.to_datetime(df21['Files'].str.split('_', expand=True)[3].str.split('.', expand=True)[0], format='%Y%m%d')\n",
    "df21['Files'] = dir_2021 + '/' + df21['Files'].astype(str)\n"
   ]
  },
  {
   "cell_type": "code",
   "execution_count": 32,
   "metadata": {},
   "outputs": [
    {
     "name": "stdout",
     "output_type": "stream",
     "text": [
      "18: 195484\n",
      "19: 212415\n"
     ]
    },
    {
     "data": {
      "text/plain": [
       "43012"
      ]
     },
     "execution_count": 32,
     "metadata": {},
     "output_type": "execute_result"
    }
   ],
   "source": [
    "print(f'18: {len(df18)}')\n",
    "print(f'19: {len(df19)}')\n",
    "10753 * 4"
   ]
  },
  {
   "cell_type": "code",
   "execution_count": 33,
   "metadata": {},
   "outputs": [],
   "source": [
    "df_all = (\n",
    "    df18\n",
    "    .merge(df19, 'inner', 'RegNo', suffixes=('_18', '_19'))\n",
    "    .merge(df20, 'inner', 'RegNo', suffixes=('_19', '_20'))\n",
    "    .merge(df21, 'inner', 'RegNo', suffixes=('_20', '_21'))\n",
    ")"
   ]
  },
  {
   "cell_type": "code",
   "execution_count": 34,
   "metadata": {},
   "outputs": [
    {
     "data": {
      "text/plain": [
       "(10753, 9)"
      ]
     },
     "execution_count": 34,
     "metadata": {},
     "output_type": "execute_result"
    }
   ],
   "source": [
    "df_all.shape"
   ]
  },
  {
   "cell_type": "code",
   "execution_count": 54,
   "metadata": {},
   "outputs": [
    {
     "data": {
      "text/plain": [
       "100"
      ]
     },
     "execution_count": 54,
     "metadata": {},
     "output_type": "execute_result"
    }
   ],
   "source": [
    "df_samp = df_all.sample(100, random_state=100)\n",
    "len(df_samp['Files_18'].to_list())"
   ]
  },
  {
   "cell_type": "code",
   "execution_count": 55,
   "metadata": {},
   "outputs": [
    {
     "data": {
      "application/vnd.jupyter.widget-view+json": {
       "model_id": "44e7ea559868490597eb2fe05edff6f5",
       "version_major": 2,
       "version_minor": 0
      },
      "text/plain": [
       "  0%|          | 0/4 [00:00<?, ?it/s]"
      ]
     },
     "metadata": {},
     "output_type": "display_data"
    }
   ],
   "source": [
    "years = [18, 19, 20, 21]\n",
    "file_list = []\n",
    "for y in tqdm(years):\n",
    "    file_list += df_samp[f'Files_{y}'].tolist()"
   ]
  },
  {
   "cell_type": "code",
   "execution_count": 56,
   "metadata": {},
   "outputs": [
    {
     "name": "stdout",
     "output_type": "stream",
     "text": [
      "Combined file size: 32339073 B\n",
      "Combined file size: 30.840943336486816 MB\n"
     ]
    }
   ],
   "source": [
    "total_size = 0\n",
    "for f in file_list:\n",
    "    total_size += stat(path.join(root, f)).st_size\n",
    "\n",
    "print(f'Combined file size: {total_size} B')\n",
    "print(f'Combined file size: {total_size / (1024**2)} MB')"
   ]
  },
  {
   "cell_type": "code",
   "execution_count": 57,
   "metadata": {},
   "outputs": [
    {
     "data": {
      "application/vnd.jupyter.widget-view+json": {
       "model_id": "309739d9c4354922a3fa73968bb0cdc2",
       "version_major": 2,
       "version_minor": 0
      },
      "text/plain": [
       "  0%|          | 0/400 [00:00<?, ?it/s]"
      ]
     },
     "metadata": {},
     "output_type": "display_data"
    }
   ],
   "source": [
    "logging.basicConfig(level=logging.ERROR)\n",
    "\n",
    "cache = HttpCache('./cache')\n",
    "cache.set_headers({'From': 'ahoward@companieshouse.gov.uk', 'User-Agent': 'py-xbrl/2.1.0'})\n",
    "parser = XbrlParser(cache)\n",
    "\n",
    "reported_dict = {}\n",
    "lookup = None\n",
    "\n",
    "\n",
    "errors = 0\n",
    "no_given_address = 0\n",
    "problem_instances = []\n",
    "problem_addresses = []\n",
    "\n",
    "for f in (pbar := tqdm(file_list)):\n",
    "    pbar.set_description(f'Parse Errors: {errors}')\n",
    "    account_path = path.join(root, f)\n",
    "    \n",
    "    parsed = False\n",
    "    try:\n",
    "        xbrl_instance = parser.parse_instance(account_path)\n",
    "        parsed = True\n",
    "    except:\n",
    "        problem_instances.append(f)\n",
    "        errors += 1\n",
    "    \n",
    "\n",
    "    if parsed:\n",
    "        unique_id = create_unique_id(f)\n",
    "        account_dictionary = get_account_information_dictionary(unique_id, xbrl_instance)\n",
    "        add_account_to_collection(filed_accounts, account_dictionary)\n",
    "\n",
    "\n",
    "with open('problem_files.json', 'w') as f:\n",
    "    json.dump(problem_instances, f)\n"
   ]
  },
  {
   "cell_type": "code",
   "execution_count": 65,
   "metadata": {},
   "outputs": [],
   "source": [
    "f = problem_instances[1]\n",
    "accounts_errors = []\n",
    "for f in problem_instances:\n",
    "    #print(f)\n",
    "    account_path = path.join(root, f)\n",
    "    try:\n",
    "        xbrl_instance = parser.parse_instance(account_path)\n",
    "    except KeyError as e:\n",
    "        accounts_errors.append([str(e), account_path])\n",
    "    except Exception as e:\n",
    "        accounts_errors.append([str(e), account_path])\n",
    "with open('account_errors.json', 'w') as o:\n",
    "    json.dump(accounts_errors, o)"
   ]
  },
  {
   "cell_type": "code",
   "execution_count": 66,
   "metadata": {},
   "outputs": [
    {
     "data": {
      "text/plain": [
       "[[\"'dpl-countries'\",\n",
       "  'C:/Users\\\\ahoward\\\\Downloads\\\\Accounts_Monthly_Data-March2018/Prod224_0052_07668935_20170630.html'],\n",
       " [\"'dpl-countries'\",\n",
       "  'C:/Users\\\\ahoward\\\\Downloads\\\\Accounts_Monthly_Data-March2018/Prod224_0052_05697829_20180228.html'],\n",
       " [\"'dpl-countries'\",\n",
       "  'C:/Users\\\\ahoward\\\\Downloads\\\\Accounts_Monthly_Data-March2018/Prod224_0052_03801700_20170630.html'],\n",
       " [\"'charmap' codec can't decode byte 0x9d in position 28349: character maps to <undefined>\",\n",
       "  'C:/Users\\\\ahoward\\\\Downloads\\\\Accounts_Monthly_Data-March2018/Prod224_0052_04430950_20170630.html'],\n",
       " [\"'dpl-countries'\",\n",
       "  'C:/Users\\\\ahoward\\\\Downloads\\\\Accounts_Monthly_Data-March2018/Prod224_0052_SC344948_20170630.html'],\n",
       " [\"'dpl-countries'\",\n",
       "  'C:/Users\\\\ahoward\\\\Downloads\\\\Accounts_Monthly_Data-March2018/Prod224_0052_08584936_20170630.html'],\n",
       " [\"'charmap' codec can't decode byte 0x9d in position 32810: character maps to <undefined>\",\n",
       "  'C:/Users\\\\ahoward\\\\Downloads\\\\Accounts_Monthly_Data-March2018/Prod224_0052_07308320_20170630.html'],\n",
       " [\"'dpl-countries'\",\n",
       "  'C:/Users\\\\ahoward\\\\Downloads\\\\Accounts_Monthly_Data-March2018/Prod224_0052_08120998_20170630.html'],\n",
       " [\"'dpl-countries'\",\n",
       "  'C:/Users\\\\ahoward\\\\Downloads\\\\Accounts_Monthly_Data-March2018/Prod224_0052_03576003_20170630.html'],\n",
       " [\"'charmap' codec can't decode byte 0x9d in position 22403: character maps to <undefined>\",\n",
       "  'C:/Users\\\\ahoward\\\\Downloads\\\\Accounts_Monthly_Data-March2018/Prod224_0052_09104821_20170630.html'],\n",
       " [\"'dpl-countries'\",\n",
       "  'C:/Users\\\\ahoward\\\\Downloads\\\\Accounts_Monthly_Data-March2019/Prod224_0064_07668935_20180630.html'],\n",
       " [\"'dpl-countries'\",\n",
       "  'C:/Users\\\\ahoward\\\\Downloads\\\\Accounts_Monthly_Data-March2019/Prod224_0064_08349846_20181231.html'],\n",
       " [\"'dpl-countries'\",\n",
       "  'C:/Users\\\\ahoward\\\\Downloads\\\\Accounts_Monthly_Data-March2019/Prod224_0064_05697829_20190228.html'],\n",
       " [\"'dpl-countries'\",\n",
       "  'C:/Users\\\\ahoward\\\\Downloads\\\\Accounts_Monthly_Data-March2019/Prod224_0064_03801700_20180630.html'],\n",
       " [\"'charmap' codec can't decode byte 0x9d in position 24811: character maps to <undefined>\",\n",
       "  'C:/Users\\\\ahoward\\\\Downloads\\\\Accounts_Monthly_Data-March2019/Prod224_0064_04430950_20180630.html'],\n",
       " [\"'dpl-countries'\",\n",
       "  'C:/Users\\\\ahoward\\\\Downloads\\\\Accounts_Monthly_Data-March2019/Prod224_0064_SC344948_20180630.html'],\n",
       " [\"'dpl-countries'\",\n",
       "  'C:/Users\\\\ahoward\\\\Downloads\\\\Accounts_Monthly_Data-March2019/Prod224_0064_08584936_20180630.html'],\n",
       " [\"'charmap' codec can't decode byte 0x9d in position 27648: character maps to <undefined>\",\n",
       "  'C:/Users\\\\ahoward\\\\Downloads\\\\Accounts_Monthly_Data-March2019/Prod224_0064_07308320_20180630.html'],\n",
       " [\"'dpl-countries'\",\n",
       "  'C:/Users\\\\ahoward\\\\Downloads\\\\Accounts_Monthly_Data-March2019/Prod224_0064_08120998_20180630.html'],\n",
       " [\"'dpl-countries'\",\n",
       "  'C:/Users\\\\ahoward\\\\Downloads\\\\Accounts_Monthly_Data-March2019/Prod224_0064_03576003_20180630.html'],\n",
       " [\"'charmap' codec can't decode byte 0x9d in position 17678: character maps to <undefined>\",\n",
       "  'C:/Users\\\\ahoward\\\\Downloads\\\\Accounts_Monthly_Data-March2019/Prod224_0064_09104821_20180630.html'],\n",
       " [\"'dpl-countries'\",\n",
       "  'C:/Users\\\\ahoward\\\\Downloads\\\\Accounts_Monthly_Data-March2020/Prod224_0076_07668935_20190630.html'],\n",
       " [\"'charmap' codec can't decode byte 0x9d in position 19242: character maps to <undefined>\",\n",
       "  'C:/Users\\\\ahoward\\\\Downloads\\\\Accounts_Monthly_Data-March2020/Prod224_0076_06921736_20190630.html'],\n",
       " [\"'charmap' codec can't decode byte 0x9d in position 262752: character maps to <undefined>\",\n",
       "  'C:/Users\\\\ahoward\\\\Downloads\\\\Accounts_Monthly_Data-March2020/Prod224_0076_05697829_20200228.html'],\n",
       " [\"'dpl-countries'\",\n",
       "  'C:/Users\\\\ahoward\\\\Downloads\\\\Accounts_Monthly_Data-March2020/Prod224_0076_03801700_20190630.html'],\n",
       " [\"'charmap' codec can't decode byte 0x9d in position 24986: character maps to <undefined>\",\n",
       "  'C:/Users\\\\ahoward\\\\Downloads\\\\Accounts_Monthly_Data-March2020/Prod224_0076_04430950_20190630.html'],\n",
       " [\"'dpl-countries'\",\n",
       "  'C:/Users\\\\ahoward\\\\Downloads\\\\Accounts_Monthly_Data-March2020/Prod224_0076_SC344948_20190630.html'],\n",
       " ['The taxonomy with namespace http://www.govtalk.gov.uk/uk/fr/tax/dpl-core/2013-10-01 could not be found. Please check if it is imported in the schema file',\n",
       "  'C:/Users\\\\ahoward\\\\Downloads\\\\Accounts_Monthly_Data-March2020/Prod224_0076_05453907_20190630.html'],\n",
       " [\"'dpl-countries'\",\n",
       "  'C:/Users\\\\ahoward\\\\Downloads\\\\Accounts_Monthly_Data-March2020/Prod224_0076_08584936_20190630.html'],\n",
       " [\"'charmap' codec can't decode byte 0x9d in position 27931: character maps to <undefined>\",\n",
       "  'C:/Users\\\\ahoward\\\\Downloads\\\\Accounts_Monthly_Data-March2020/Prod224_0076_07308320_20190630.html'],\n",
       " [\"'dpl-countries'\",\n",
       "  'C:/Users\\\\ahoward\\\\Downloads\\\\Accounts_Monthly_Data-March2020/Prod224_0076_08120998_20190630.html'],\n",
       " [\"'dpl-countries'\",\n",
       "  'C:/Users\\\\ahoward\\\\Downloads\\\\Accounts_Monthly_Data-March2020/Prod224_0076_03576003_20190630.html'],\n",
       " [\"'charmap' codec can't decode byte 0x9d in position 17832: character maps to <undefined>\",\n",
       "  'C:/Users\\\\ahoward\\\\Downloads\\\\Accounts_Monthly_Data-March2020/Prod224_0076_09104821_20190630.html'],\n",
       " [\"'dpl-frs'\",\n",
       "  'C:/Users\\\\ahoward\\\\Downloads\\\\Accounts_Monthly_Data-March2021/Prod224_0088_07668935_20200630.html'],\n",
       " [\"'dpl-frs'\",\n",
       "  'C:/Users\\\\ahoward\\\\Downloads\\\\Accounts_Monthly_Data-March2021/Prod224_0088_08349846_20201231.html'],\n",
       " [\"'dpl-frs'\",\n",
       "  'C:/Users\\\\ahoward\\\\Downloads\\\\Accounts_Monthly_Data-March2021/Prod224_0088_05697829_20210228.html'],\n",
       " [\"'dpl-frs'\",\n",
       "  'C:/Users\\\\ahoward\\\\Downloads\\\\Accounts_Monthly_Data-March2021/Prod224_0088_03801700_20200630.html'],\n",
       " [\"'charmap' codec can't decode byte 0x9d in position 25587: character maps to <undefined>\",\n",
       "  'C:/Users\\\\ahoward\\\\Downloads\\\\Accounts_Monthly_Data-March2021/Prod224_0088_04430950_20200630.html'],\n",
       " [\"'dpl-frs'\",\n",
       "  'C:/Users\\\\ahoward\\\\Downloads\\\\Accounts_Monthly_Data-March2021/Prod224_0088_SC344948_20200630.html'],\n",
       " [\"'dpl-frs'\",\n",
       "  'C:/Users\\\\ahoward\\\\Downloads\\\\Accounts_Monthly_Data-March2021/Prod224_0088_08584936_20200630.html'],\n",
       " [\"'charmap' codec can't decode byte 0x9d in position 27950: character maps to <undefined>\",\n",
       "  'C:/Users\\\\ahoward\\\\Downloads\\\\Accounts_Monthly_Data-March2021/Prod224_0088_07308320_20200630.html'],\n",
       " [\"'dpl-frs'\",\n",
       "  'C:/Users\\\\ahoward\\\\Downloads\\\\Accounts_Monthly_Data-March2021/Prod224_0088_08120998_20200630.html'],\n",
       " [\"'dpl-frs'\",\n",
       "  'C:/Users\\\\ahoward\\\\Downloads\\\\Accounts_Monthly_Data-March2021/Prod224_0088_03576003_20200630.html'],\n",
       " [\"'charmap' codec can't decode byte 0x9d in position 19599: character maps to <undefined>\",\n",
       "  'C:/Users\\\\ahoward\\\\Downloads\\\\Accounts_Monthly_Data-March2021/Prod224_0088_09104821_20200630.html']]"
      ]
     },
     "execution_count": 66,
     "metadata": {},
     "output_type": "execute_result"
    }
   ],
   "source": [
    "accounts_errors"
   ]
  },
  {
   "cell_type": "code",
   "execution_count": null,
   "metadata": {},
   "outputs": [],
   "source": []
  }
 ],
 "metadata": {
  "kernelspec": {
   "display_name": "Python 3.9.13 ('DefaultDataScience')",
   "language": "python",
   "name": "python3"
  },
  "language_info": {
   "codemirror_mode": {
    "name": "ipython",
    "version": 3
   },
   "file_extension": ".py",
   "mimetype": "text/x-python",
   "name": "python",
   "nbconvert_exporter": "python",
   "pygments_lexer": "ipython3",
   "version": "3.9.13"
  },
  "orig_nbformat": 4,
  "vscode": {
   "interpreter": {
    "hash": "8270e447217dfb8aa50efce57c8b0fee6196620bc8c4c1bb30fc34f6cadd18e6"
   }
  }
 },
 "nbformat": 4,
 "nbformat_minor": 2
}
