{
 "cells": [
  {
   "cell_type": "code",
   "execution_count": 1,
   "metadata": {},
   "outputs": [],
   "source": [
    "from os import path, listdir\n",
    "import pandas as pd\n",
    "from tqdm.notebook import tqdm\n",
    "from os import listdir, path, stat\n",
    "import logging\n",
    "from xbrl.cache import HttpCache\n",
    "from xbrl.instance import XbrlParser\n",
    "import json\n",
    "import uuid\n",
    "from pymongo import MongoClient\n",
    "from datetime import datetime\n"
   ]
  },
  {
   "cell_type": "code",
   "execution_count": 2,
   "metadata": {},
   "outputs": [],
   "source": [
    "# f = ['C:/Users\\\\ahoward\\\\Downloads\\\\Accounts_Monthly_Data-March2018/Prod224_0052_07668935_20170630.html']\n",
    "# logging.basicConfig(level=logging.INFO)\n",
    "\n",
    "# cache = HttpCache('./cache')\n",
    "# cache.set_headers({'From': 'ahoward@companieshouse.gov.uk', 'User-Agent': 'py-xbrl/2.1.0'})\n",
    "# parser = XbrlParser(cache)\n",
    "\n",
    "# for file in f:\n",
    "#     xbrl_instance = parser.parse_instance(file)"
   ]
  },
  {
   "cell_type": "code",
   "execution_count": 3,
   "metadata": {},
   "outputs": [],
   "source": [
    "from digiaccounts.digiaccounts_data import (\n",
    "    get_financial_table,\n",
    "    get_startend_period,\n",
    "    get_company_address,\n",
    "    get_company_registration,\n",
    "    get_accounting_software,\n",
    "    get_share_info,\n",
    "    get_director_names,\n",
    "    get_company_postcode,\n",
    "    get_average_employees,\n",
    "    get_dormant_state,\n",
    "    get_tangible_assets\n",
    ")\n",
    "\n",
    "from digiaccounts.digiaccounts_io import (\n",
    "    get_account_information_dictionary,\n",
    "    add_account_to_collection,\n",
    "    create_unique_id\n",
    ")"
   ]
  },
  {
   "cell_type": "code",
   "execution_count": 4,
   "metadata": {},
   "outputs": [],
   "source": [
    "def get_database(dbname):\n",
    "\n",
    "    CONNECTION_STRING = 'mongodb://localhost:27017'\n",
    "\n",
    "    client = MongoClient(CONNECTION_STRING)\n",
    "\n",
    "    return client[dbname]"
   ]
  },
  {
   "cell_type": "code",
   "execution_count": 5,
   "metadata": {},
   "outputs": [],
   "source": [
    "mongodb = get_database('annual_accounts_db')\n",
    "filed_accounts = mongodb['filed_accounts']\n",
    "index_accounts = mongodb['index_accounts']"
   ]
  },
  {
   "cell_type": "code",
   "execution_count": 6,
   "metadata": {},
   "outputs": [],
   "source": [
    "# documents = filed_accounts.distinct('registration_number')\n",
    "# len(documents)"
   ]
  },
  {
   "cell_type": "code",
   "execution_count": 7,
   "metadata": {},
   "outputs": [],
   "source": [
    "# documents = filed_accounts.aggregate(\n",
    "#     [ \n",
    "#         {   \n",
    "#             \"$group\":  { \n",
    "#                     \"_id\": \"$registration_number\", \n",
    "#                     \"count\": { \"$sum\": 1 } \n",
    "#                 } \n",
    "#         },\n",
    "#         {\n",
    "#             \"$group\": {\n",
    "#                 \"_id\": None, \n",
    "#                 \"maxCount\": { \"$max\": \"$count\" },\n",
    "#                 \"minCount\": { \"$min\": \"$count\" },\n",
    "#                 \"avgCount\": { \"$avg\": \"$count\" }\n",
    "#             }\n",
    "#         }\n",
    "#     ]    \n",
    "# )\n",
    "# for d in documents:\n",
    "#     print(d)"
   ]
  },
  {
   "cell_type": "code",
   "execution_count": 8,
   "metadata": {},
   "outputs": [],
   "source": [
    "# documents = filed_accounts.aggregate(\n",
    "#     [\n",
    "#         {\n",
    "#             \"$match\": {\n",
    "#                 \"$and\": [\n",
    "#                     {\"$expr\": {\"$lt\": [{\"$dateFromString\": {\"dateString\": \"$period_ending\"}}, datetime.strptime('20180331', \"%Y%m%d\")]}},\n",
    "#                     {\"is_dormant\": {'$eq':False}},\n",
    "#                     {\"$expr\": {\"$gt\": [{\"$toDouble\": \"$average_employees\"}, 0]}}\n",
    "#                 ]\n",
    "#             }\n",
    "#         },\n",
    "#         {\n",
    "#            \"$group\": {\n",
    "#                 \"_id\": 'Ending 2018', \n",
    "#                 \"entityCount\": {\"$sum\": 1},\n",
    "#                 \"maxEmployees\": { \"$max\": {\"$toDouble\": \"$average_employees\" } },\n",
    "#                 \"minEmployees\": { \"$min\": {\"$toDouble\": \"$average_employees\" } },\n",
    "#                 \"avgEmployees\": { \"$avg\": {\"$toDouble\": \"$average_employees\" } }\n",
    "#             } \n",
    "#         }\n",
    "#     ]\n",
    "# )\n",
    "# for d in documents:\n",
    "#     print(d)\n",
    "\n",
    "# documents = filed_accounts.aggregate(\n",
    "#     [\n",
    "#         {\n",
    "#             \"$match\": {\n",
    "#                 \"$and\": [\n",
    "#                     {\"$expr\": {\"$gte\": [{\"$dateFromString\": {\"dateString\": \"$period_ending\"}}, datetime.strptime('20180331', \"%Y%m%d\")]}},\n",
    "#                     {\"$expr\": {\"$lt\": [{\"$dateFromString\": {\"dateString\": \"$period_ending\"}}, datetime.strptime('20190331', \"%Y%m%d\")]}},\n",
    "#                     {\"is_dormant\": {'$eq':False}},\n",
    "#                     {\"$expr\": {\"$gt\": [{\"$toDouble\": \"$average_employees\"}, 0]}}\n",
    "#                 ]\n",
    "                \n",
    "#             }\n",
    "#         },\n",
    "#         {\n",
    "#            \"$group\": {\n",
    "#                 \"_id\": 'Ending 2019', \n",
    "#                 \"entityCount\": {\"$sum\": 1},\n",
    "#                 \"maxEmployees\": { \"$max\": {\"$toDouble\": \"$average_employees\" } },\n",
    "#                 \"minEmployees\": { \"$min\": {\"$toDouble\": \"$average_employees\" } },\n",
    "#                 \"avgEmployees\": { \"$avg\": {\"$toDouble\": \"$average_employees\" } }\n",
    "#             } \n",
    "#         }\n",
    "#     ]\n",
    "# )\n",
    "# for d in documents:\n",
    "#     print(d)\n",
    "\n",
    "# documents = filed_accounts.aggregate(\n",
    "#     [\n",
    "#         {\n",
    "#             \"$match\": {\n",
    "#                     \"$and\": [\n",
    "#                     {\"$expr\": {\"$gte\": [{\"$dateFromString\": {\"dateString\": \"$period_ending\"}}, datetime.strptime('20190331', \"%Y%m%d\")]}},\n",
    "#                     {\"$expr\": {\"$lt\": [{\"$dateFromString\": {\"dateString\": \"$period_ending\"}}, datetime.strptime('20200331', \"%Y%m%d\")]}},\n",
    "#                     {\"is_dormant\": {'$eq':False}},\n",
    "#                     {\"$expr\": {\"$gt\": [{\"$toDouble\": \"$average_employees\"}, 0]}}\n",
    "#                 ]\n",
    "#             }\n",
    "#         },\n",
    "#         {\n",
    "#            \"$group\": {\n",
    "#                 \"_id\": 'Ending 2020',\n",
    "#                 \"entityCount\": {\"$sum\": 1}, \n",
    "#                 \"maxEmployees\": { \"$max\": {\"$toDouble\": \"$average_employees\" } },\n",
    "#                 \"minEmployees\": { \"$min\": {\"$toDouble\": \"$average_employees\" } },\n",
    "#                 \"avgEmployees\": { \"$avg\": {\"$toDouble\": \"$average_employees\" } }\n",
    "#             } \n",
    "#         }\n",
    "#     ]\n",
    "# )\n",
    "# for d in documents:\n",
    "#     print(d)\n",
    "\n",
    "# documents = filed_accounts.aggregate(\n",
    "#     [\n",
    "#         {\n",
    "#             \"$match\": {\n",
    "#                 \"$and\": [\n",
    "#                     {\"$expr\": {\"$gte\": [{\"$dateFromString\": {\"dateString\": \"$period_ending\"}}, datetime.strptime('20200331', \"%Y%m%d\")]}},\n",
    "#                     {\"$expr\": {\"$lt\": [{\"$dateFromString\": {\"dateString\": \"$period_ending\"}}, datetime.strptime('20210331', \"%Y%m%d\")]}},\n",
    "#                     {\"is_dormant\": {'$eq':False}},\n",
    "#                     {\"$expr\": {\"$gte\": [{\"$toDouble\": \"$average_employees\"}, 1]}}\n",
    "#                 ]\n",
    "#             }\n",
    "#         },\n",
    "#         {\n",
    "#             \"$group\": {\n",
    "#                 \"_id\": 'Ending 2021',\n",
    "#                 \"entityCount\": {\"$sum\": 1},\n",
    "#                 \"maxEmployees\": {\"$max\": {\"$toDouble\": \"$average_employees\"}},\n",
    "#                 \"minEmployees\": {\"$min\": {\"$toDouble\": \"$average_employees\"}},\n",
    "#                 \"avgEmployees\": {\"$avg\": {\"$toDouble\": \"$average_employees\"}}\n",
    "#             }\n",
    "#         }\n",
    "#     ]\n",
    "# )\n",
    "# for d in documents:\n",
    "#     print(d)\n"
   ]
  },
  {
   "cell_type": "code",
   "execution_count": 9,
   "metadata": {},
   "outputs": [],
   "source": [
    "# query1 = {'$and':[\n",
    "    \n",
    "#         {\"$expr\": {\n",
    "#             \"$lt\": [{ \"$dateFromString\": { \"dateString\": \"$period_ending\" }}, datetime.strptime('20180331', \"%Y%m%d\") ]\n",
    "#         }},\n",
    "#         {\"is_dormant\": {'$eq':True}}\n",
    "#     ]\n",
    "# }\n",
    "\n",
    "# query2 = {'$and':[\n",
    "    \n",
    "#         {\"$expr\": {\n",
    "#             \"$gte\": [{ \"$dateFromString\": { \"dateString\": \"$period_ending\" }}, datetime.strptime('20200331', \"%Y%m%d\") ]\n",
    "#         }},\n",
    "#         {\"is_dormant\": {'$eq':False}}\n",
    "#     ]\n",
    "# }\n",
    "\n",
    "# query_comb = {'$or': [\n",
    "#         query1,\n",
    "#         query2\n",
    "#     ]\n",
    "# }\n",
    "\n",
    "# documents = filed_accounts.aggregate(\n",
    "#     [\n",
    "#         {\n",
    "#             \"$match\": query_comb\n",
    "#         },\n",
    "#         {\n",
    "#             \"$group\": {\n",
    "#                 \"_id\": \"$registration_number\",\n",
    "#                 \"reg_filter_count\": {\"$sum\": 1} \n",
    "#             }\n",
    "#         },\n",
    "#         {\n",
    "#             \"$match\": {\n",
    "#                 \"$expr\": {\n",
    "#                     \"$gt\": [\"$reg_filter_count\", 1]\n",
    "#                 }\n",
    "#             }\n",
    "#         }\n",
    "#     ]\n",
    "# )\n",
    "# print('Started/Resumed Trading')\n",
    "# for d in documents:\n",
    "#     print(d['_id'])"
   ]
  },
  {
   "cell_type": "code",
   "execution_count": 10,
   "metadata": {},
   "outputs": [],
   "source": [
    "# query1 = {'$and':[\n",
    "    \n",
    "#         {\"$expr\": {\n",
    "#             \"$lt\": [{ \"$dateFromString\": { \"dateString\": \"$period_ending\" }}, datetime.strptime('20180331', \"%Y%m%d\") ]\n",
    "#         }},\n",
    "#         {\"is_dormant\": {'$eq':False}}\n",
    "#     ]\n",
    "# }\n",
    "\n",
    "# query2 = {'$and':[\n",
    "    \n",
    "#         {\"$expr\": {\n",
    "#             \"$gt\": [{ \"$dateFromString\": { \"dateString\": \"$period_ending\" }}, datetime.strptime('20200331', \"%Y%m%d\") ]\n",
    "#         }},\n",
    "#         {\"is_dormant\": {'$eq':True}}\n",
    "#     ]\n",
    "# }\n",
    "\n",
    "# query_comb = {'$or': [\n",
    "#         query1,\n",
    "#         query2\n",
    "#     ]\n",
    "# }\n",
    "\n",
    "# documents = filed_accounts.aggregate(\n",
    "#     [\n",
    "#         {\n",
    "#             \"$match\": query_comb\n",
    "#         },\n",
    "#         {\n",
    "#             \"$group\": {\n",
    "#                 \"_id\": \"$registration_number\",\n",
    "#                 \"reg_filter_count\": {\"$sum\": 1} \n",
    "#             }\n",
    "#         },\n",
    "#         {\n",
    "#             \"$match\": {\n",
    "#                 \"$expr\": {\n",
    "#                     \"$gt\": [\"$reg_filter_count\", 1]\n",
    "#                 }\n",
    "#             }\n",
    "#         }\n",
    "#     ]\n",
    "# )\n",
    "# print('Became Dormant')\n",
    "# for d in documents:\n",
    "#     print(d['_id'])"
   ]
  },
  {
   "cell_type": "code",
   "execution_count": 11,
   "metadata": {},
   "outputs": [],
   "source": [
    "# aggrigation = filed_accounts.aggregate([\n",
    "#     {\"$match\": query_comb},\n",
    "#     {\"$group\": {\"_id\": \"$registration_number\", }}\n",
    "# ])\n",
    "# results = [a for a in aggrigation]"
   ]
  },
  {
   "cell_type": "code",
   "execution_count": 12,
   "metadata": {},
   "outputs": [],
   "source": [
    "# results"
   ]
  },
  {
   "cell_type": "code",
   "execution_count": 13,
   "metadata": {},
   "outputs": [],
   "source": [
    "root = path.join('C:/Users', 'ahoward', 'Downloads')\n",
    "dir_2018 = 'Accounts_Monthly_Data-March2018'\n",
    "dir_2019 = 'Accounts_Monthly_Data-March2019'\n",
    "dir_2020 = 'Accounts_Monthly_Data-March2020'\n",
    "dir_2021 = 'Accounts_Monthly_Data-March2021'\n",
    "\n",
    "accounts_2018 = path.join(root, dir_2018)\n",
    "accounts_2019 = path.join(root, dir_2019)\n",
    "accounts_2020 = path.join(root, dir_2020)\n",
    "accounts_2021 = path.join(root, dir_2021)"
   ]
  },
  {
   "cell_type": "code",
   "execution_count": 14,
   "metadata": {},
   "outputs": [],
   "source": [
    "files_2018 = listdir(accounts_2018)\n",
    "files_2019 = listdir(accounts_2019)\n",
    "files_2020 = listdir(accounts_2020)\n",
    "files_2021 = listdir(accounts_2021)"
   ]
  },
  {
   "cell_type": "code",
   "execution_count": 15,
   "metadata": {},
   "outputs": [
    {
     "data": {
      "text/plain": [
       "945782"
      ]
     },
     "execution_count": 15,
     "metadata": {},
     "output_type": "execute_result"
    }
   ],
   "source": [
    "files = [path.join(accounts_2018, f) for f in files_2018]\n",
    "files += [path.join(accounts_2019, f) for f in files_2019]\n",
    "files += [path.join(accounts_2020, f) for f in files_2020]\n",
    "files += [path.join(accounts_2021, f) for f in files_2021]\n",
    "\n",
    "# all_size = 0\n",
    "# for f in tqdm(files):\n",
    "#     all_size += stat(f).st_size\n",
    "# print(f'All files size: {all_size} B')\n",
    "# print(f'All files size: {all_size / (1024**2)} MB')\n",
    "# print(f'All files size: {all_size / (1024**3)} GB')\n",
    "len(files)"
   ]
  },
  {
   "cell_type": "code",
   "execution_count": 16,
   "metadata": {},
   "outputs": [],
   "source": [
    "df18 = pd.DataFrame(data=files_2018, columns = ['Files'])\n",
    "df18['RegNo'] = df18['Files'].str.split('_', expand=True)[2]\n",
    "df18['Date'] = pd.to_datetime(df18['Files'].str.split('_', expand=True)[3].str.split('.', expand=True)[0], format='%Y%m%d')\n",
    "df18['Files'] = dir_2018 + '/' + df18['Files'].astype(str)\n",
    "\n",
    "df19 = pd.DataFrame(data=files_2019, columns = ['Files'])\n",
    "df19['RegNo'] = df19['Files'].str.split('_', expand=True)[2]\n",
    "df19['Date'] = pd.to_datetime(df19['Files'].str.split('_', expand=True)[3].str.split('.', expand=True)[0], format='%Y%m%d')\n",
    "df19['Files'] = dir_2019 + '/' + df19['Files'].astype(str)\n",
    "\n",
    "df20 = pd.DataFrame(data=files_2020, columns = ['Files'])\n",
    "df20['RegNo'] = df20['Files'].str.split('_', expand=True)[2]\n",
    "df20['Date'] = pd.to_datetime(df20['Files'].str.split('_', expand=True)[3].str.split('.', expand=True)[0], format='%Y%m%d')\n",
    "df20['Files'] = dir_2020 + '/' + df20['Files'].astype(str)\n",
    "\n",
    "df21 = pd.DataFrame(data=files_2021, columns = ['Files'])\n",
    "df21['RegNo'] = df21['Files'].str.split('_', expand=True)[2]\n",
    "df21['Date'] = pd.to_datetime(df21['Files'].str.split('_', expand=True)[3].str.split('.', expand=True)[0], format='%Y%m%d')\n",
    "df21['Files'] = dir_2021 + '/' + df21['Files'].astype(str)\n"
   ]
  },
  {
   "cell_type": "code",
   "execution_count": 17,
   "metadata": {},
   "outputs": [
    {
     "name": "stdout",
     "output_type": "stream",
     "text": [
      "18: 195484\n",
      "19: 212415\n"
     ]
    },
    {
     "data": {
      "text/plain": [
       "43012"
      ]
     },
     "execution_count": 17,
     "metadata": {},
     "output_type": "execute_result"
    }
   ],
   "source": [
    "print(f'18: {len(df18)}')\n",
    "print(f'19: {len(df19)}')\n",
    "10753 * 4"
   ]
  },
  {
   "cell_type": "code",
   "execution_count": 18,
   "metadata": {},
   "outputs": [],
   "source": [
    "df_all = (\n",
    "    df18\n",
    "    .merge(df19, 'inner', 'RegNo', suffixes=('_18', '_19'))\n",
    "    .merge(df20, 'inner', 'RegNo', suffixes=('_19', '_20'))\n",
    "    .merge(df21, 'inner', 'RegNo', suffixes=('_20', '_21'))\n",
    ")"
   ]
  },
  {
   "cell_type": "code",
   "execution_count": 19,
   "metadata": {},
   "outputs": [
    {
     "data": {
      "text/plain": [
       "(10753, 9)"
      ]
     },
     "execution_count": 19,
     "metadata": {},
     "output_type": "execute_result"
    }
   ],
   "source": [
    "df_all.shape"
   ]
  },
  {
   "cell_type": "code",
   "execution_count": 20,
   "metadata": {},
   "outputs": [
    {
     "data": {
      "text/plain": [
       "1000"
      ]
     },
     "execution_count": 20,
     "metadata": {},
     "output_type": "execute_result"
    }
   ],
   "source": [
    "df_samp = df_all.sample(1000, random_state=100)\n",
    "len(df_samp['Files_18'].to_list())"
   ]
  },
  {
   "cell_type": "code",
   "execution_count": 21,
   "metadata": {},
   "outputs": [
    {
     "data": {
      "application/vnd.jupyter.widget-view+json": {
       "model_id": "68b099cafecf498d9ec7d2056ee7b85d",
       "version_major": 2,
       "version_minor": 0
      },
      "text/plain": [
       "  0%|          | 0/4 [00:00<?, ?it/s]"
      ]
     },
     "metadata": {},
     "output_type": "display_data"
    }
   ],
   "source": [
    "years = [18, 19, 20, 21]\n",
    "file_list = []\n",
    "for y in tqdm(years):\n",
    "    file_list += df_samp[f'Files_{y}'].tolist()"
   ]
  },
  {
   "cell_type": "code",
   "execution_count": 22,
   "metadata": {},
   "outputs": [
    {
     "name": "stdout",
     "output_type": "stream",
     "text": [
      "Combined file size: 296875535 B\n",
      "Combined file size: 283.12257289886475 MB\n"
     ]
    }
   ],
   "source": [
    "total_size = 0\n",
    "for f in file_list:\n",
    "    total_size += stat(path.join(root, f)).st_size\n",
    "\n",
    "print(f'Combined file size: {total_size} B')\n",
    "print(f'Combined file size: {total_size / (1024**2)} MB')"
   ]
  },
  {
   "cell_type": "code",
   "execution_count": 23,
   "metadata": {},
   "outputs": [],
   "source": [
    "# logging.basicConfig(level=logging.ERROR)\n",
    "\n",
    "# cache = HttpCache('./cache')\n",
    "# cache.set_headers({'From': 'ahoward@companieshouse.gov.uk', 'User-Agent': 'py-xbrl/2.1.0'})\n",
    "# parser = XbrlParser(cache)\n",
    "\n",
    "# for f in file_list[0:10]:\n",
    "#     account_path = path.join(root, f)\n",
    "#     xbrl_instance = parser.parse_instance(account_path)"
   ]
  },
  {
   "cell_type": "code",
   "execution_count": 24,
   "metadata": {},
   "outputs": [
    {
     "data": {
      "application/vnd.jupyter.widget-view+json": {
       "model_id": "f685dd1dd1914cca95fed6492c379c7b",
       "version_major": 2,
       "version_minor": 0
      },
      "text/plain": [
       "  0%|          | 0/4000 [00:00<?, ?it/s]"
      ]
     },
     "metadata": {},
     "output_type": "display_data"
    }
   ],
   "source": [
    "from digiaccounts.digiaccounts_data import get_entity_equity, get_entity_turnover, get_intangible_assets\n",
    "\n",
    "logging.basicConfig(level=logging.ERROR)\n",
    "\n",
    "cache = HttpCache('./cache')\n",
    "cache.set_headers({'From': 'ahoward@companieshouse.gov.uk', 'User-Agent': 'py-xbrl/2.1.0'})\n",
    "parser = XbrlParser(cache)\n",
    "\n",
    "tangibles_list = []\n",
    "index = 0\n",
    "\n",
    "for f in (pbar := tqdm(file_list)):\n",
    "\n",
    "    account_path = path.join(root, f)\n",
    "    parsed = False\n",
    "    try:\n",
    "        xbrl_instance = parser.parse_instance(account_path)\n",
    "        parsed = True\n",
    "    except:\n",
    "        pass\n",
    "    \n",
    "\n",
    "    if parsed:\n",
    "        tangibles = get_tangible_assets(xbrl_instance)\n",
    "\n",
    "        if tangibles:\n",
    "            tangibles.append(f)\n",
    "            tangibles_list.append(tangibles)\n",
    "            print(index)\n",
    "    index += 1"
   ]
  },
  {
   "cell_type": "code",
   "execution_count": 25,
   "metadata": {},
   "outputs": [
    {
     "data": {
      "text/plain": [
       "[]"
      ]
     },
     "execution_count": 25,
     "metadata": {},
     "output_type": "execute_result"
    }
   ],
   "source": [
    "tangibles_list"
   ]
  },
  {
   "cell_type": "code",
   "execution_count": null,
   "metadata": {},
   "outputs": [],
   "source": [
    "from digiaccounts.digiaccounts_data import get_entity_equity, get_entity_turnover, get_intangible_assets, get_plant_equipment\n",
    "\n",
    "logging.basicConfig(level=logging.ERROR)\n",
    "\n",
    "cache = HttpCache('./cache')\n",
    "cache.set_headers({'From': 'ahoward@companieshouse.gov.uk', 'User-Agent': 'py-xbrl/2.1.0'})\n",
    "parser = XbrlParser(cache)\n",
    "\n",
    "tangibles_list = []\n",
    "index = 0\n",
    "\n",
    "for f in (pbar := tqdm(file_list)):\n",
    "\n",
    "    account_path = path.join(root, f)\n",
    "    parsed = False\n",
    "    try:\n",
    "        xbrl_instance = parser.parse_instance(account_path)\n",
    "        parsed = True\n",
    "    except:\n",
    "        pass\n",
    "    \n",
    "\n",
    "    if parsed:\n",
    "        try:\n",
    "            current, previous = get_plant_equipment(xbrl_instance)\n",
    "        except KeyError:\n",
    "            current = []\n",
    "\n",
    "        if current:\n",
    "            tangibles_list.append({\n",
    "                'current': current,\n",
    "                'previous': previous,\n",
    "                'file': f\n",
    "            })\n",
    "            print(index)\n",
    "    index += 1"
   ]
  },
  {
   "cell_type": "code",
   "execution_count": 20,
   "metadata": {},
   "outputs": [
    {
     "name": "stdout",
     "output_type": "stream",
     "text": [
      "C:/Users\\ahoward\\Downloads\\Accounts_Monthly_Data-March2018/Prod224_0052_05142168_20170630.html\n"
     ]
    }
   ],
   "source": [
    "f = file_list[9]\n",
    "account_path = path.join(root, f)\n",
    "\n",
    "print(account_path)"
   ]
  },
  {
   "cell_type": "code",
   "execution_count": 28,
   "metadata": {},
   "outputs": [
    {
     "name": "stdout",
     "output_type": "stream",
     "text": [
      "C:/Users\\ahoward\\Downloads\\Accounts_Monthly_Data-March2021/Prod224_0088_NI044157_20201231.html\n",
      "2020-01-01\n",
      "2020-12-31\n",
      "2019-12-31\n",
      "2019-12-31\n"
     ]
    }
   ],
   "source": [
    "account_path = path.join(root, file_list[399])\n",
    "xbrl_instance = parser.parse_instance(account_path)\n",
    "start, end = get_startend_period(xbrl_instance)\n",
    "print(account_path)\n",
    "print(start)\n",
    "print(end)\n",
    "for f in xbrl_instance.facts:\n",
    "    if f.concept.name == 'IntangibleAssets':\n",
    "        print(f.context.instant_date)"
   ]
  },
  {
   "cell_type": "code",
   "execution_count": 29,
   "metadata": {},
   "outputs": [
    {
     "data": {
      "text/plain": [
       "(None, None)"
      ]
     },
     "execution_count": 29,
     "metadata": {},
     "output_type": "execute_result"
    }
   ],
   "source": [
    "get_intangible_assets(xbrl_instance)"
   ]
  },
  {
   "cell_type": "code",
   "execution_count": 25,
   "metadata": {},
   "outputs": [
    {
     "data": {
      "application/vnd.jupyter.widget-view+json": {
       "model_id": "6b7646d499484ca2bbeb00cf69193929",
       "version_major": 2,
       "version_minor": 0
      },
      "text/plain": [
       "  0%|          | 0/400 [00:00<?, ?it/s]"
      ]
     },
     "metadata": {},
     "output_type": "display_data"
    }
   ],
   "source": [
    "logging.basicConfig(level=logging.INFO)\n",
    "\n",
    "cache = HttpCache('./cache')\n",
    "cache.set_headers({'From': 'ahoward@companieshouse.gov.uk', 'User-Agent': 'py-xbrl/2.1.0'})\n",
    "parser = XbrlParser(cache)\n",
    "\n",
    "reported_dict = {}\n",
    "lookup = None\n",
    "\n",
    "\n",
    "errors = 0\n",
    "no_given_address = 0\n",
    "problem_instances = []\n",
    "problem_addresses = []\n",
    "\n",
    "for f in (pbar := tqdm(file_list)):\n",
    "    pbar.set_description(f'Parse Errors: {errors}')\n",
    "    account_path = path.join(root, f)\n",
    "    \n",
    "    parsed = False\n",
    "    try:\n",
    "        xbrl_instance = parser.parse_instance(account_path)\n",
    "        parsed = True\n",
    "    except:\n",
    "        problem_instances.append(f)\n",
    "        errors += 1\n",
    "    \n",
    "\n",
    "    # if parsed:\n",
    "    #     unique_id = create_unique_id(f)\n",
    "    #     account_dictionary = get_account_information_dictionary(unique_id, xbrl_instance)\n",
    "    #     add_account_to_collection(filed_accounts, account_dictionary)\n",
    "\n",
    "\n",
    "# with open('problem_files.json', 'w') as f:\n",
    "#     json.dump(problem_instances, f)\n"
   ]
  },
  {
   "cell_type": "code",
   "execution_count": 65,
   "metadata": {},
   "outputs": [],
   "source": [
    "# f = problem_instances[1]\n",
    "# accounts_errors = []\n",
    "# for f in problem_instances:\n",
    "#     #print(f)\n",
    "#     account_path = path.join(root, f)\n",
    "#     try:\n",
    "#         xbrl_instance = parser.parse_instance(account_path)\n",
    "#     except KeyError as e:\n",
    "#         accounts_errors.append([str(e), account_path])\n",
    "#     except Exception as e:\n",
    "#         accounts_errors.append([str(e), account_path])\n",
    "# with open('account_errors.json', 'w') as o:\n",
    "#     json.dump(accounts_errors, o)"
   ]
  },
  {
   "cell_type": "code",
   "execution_count": 66,
   "metadata": {},
   "outputs": [
    {
     "data": {
      "text/plain": [
       "[[\"'dpl-countries'\",\n",
       "  'C:/Users\\\\ahoward\\\\Downloads\\\\Accounts_Monthly_Data-March2018/Prod224_0052_07668935_20170630.html'],\n",
       " [\"'dpl-countries'\",\n",
       "  'C:/Users\\\\ahoward\\\\Downloads\\\\Accounts_Monthly_Data-March2018/Prod224_0052_05697829_20180228.html'],\n",
       " [\"'dpl-countries'\",\n",
       "  'C:/Users\\\\ahoward\\\\Downloads\\\\Accounts_Monthly_Data-March2018/Prod224_0052_03801700_20170630.html'],\n",
       " [\"'charmap' codec can't decode byte 0x9d in position 28349: character maps to <undefined>\",\n",
       "  'C:/Users\\\\ahoward\\\\Downloads\\\\Accounts_Monthly_Data-March2018/Prod224_0052_04430950_20170630.html'],\n",
       " [\"'dpl-countries'\",\n",
       "  'C:/Users\\\\ahoward\\\\Downloads\\\\Accounts_Monthly_Data-March2018/Prod224_0052_SC344948_20170630.html'],\n",
       " [\"'dpl-countries'\",\n",
       "  'C:/Users\\\\ahoward\\\\Downloads\\\\Accounts_Monthly_Data-March2018/Prod224_0052_08584936_20170630.html'],\n",
       " [\"'charmap' codec can't decode byte 0x9d in position 32810: character maps to <undefined>\",\n",
       "  'C:/Users\\\\ahoward\\\\Downloads\\\\Accounts_Monthly_Data-March2018/Prod224_0052_07308320_20170630.html'],\n",
       " [\"'dpl-countries'\",\n",
       "  'C:/Users\\\\ahoward\\\\Downloads\\\\Accounts_Monthly_Data-March2018/Prod224_0052_08120998_20170630.html'],\n",
       " [\"'dpl-countries'\",\n",
       "  'C:/Users\\\\ahoward\\\\Downloads\\\\Accounts_Monthly_Data-March2018/Prod224_0052_03576003_20170630.html'],\n",
       " [\"'charmap' codec can't decode byte 0x9d in position 22403: character maps to <undefined>\",\n",
       "  'C:/Users\\\\ahoward\\\\Downloads\\\\Accounts_Monthly_Data-March2018/Prod224_0052_09104821_20170630.html'],\n",
       " [\"'dpl-countries'\",\n",
       "  'C:/Users\\\\ahoward\\\\Downloads\\\\Accounts_Monthly_Data-March2019/Prod224_0064_07668935_20180630.html'],\n",
       " [\"'dpl-countries'\",\n",
       "  'C:/Users\\\\ahoward\\\\Downloads\\\\Accounts_Monthly_Data-March2019/Prod224_0064_08349846_20181231.html'],\n",
       " [\"'dpl-countries'\",\n",
       "  'C:/Users\\\\ahoward\\\\Downloads\\\\Accounts_Monthly_Data-March2019/Prod224_0064_05697829_20190228.html'],\n",
       " [\"'dpl-countries'\",\n",
       "  'C:/Users\\\\ahoward\\\\Downloads\\\\Accounts_Monthly_Data-March2019/Prod224_0064_03801700_20180630.html'],\n",
       " [\"'charmap' codec can't decode byte 0x9d in position 24811: character maps to <undefined>\",\n",
       "  'C:/Users\\\\ahoward\\\\Downloads\\\\Accounts_Monthly_Data-March2019/Prod224_0064_04430950_20180630.html'],\n",
       " [\"'dpl-countries'\",\n",
       "  'C:/Users\\\\ahoward\\\\Downloads\\\\Accounts_Monthly_Data-March2019/Prod224_0064_SC344948_20180630.html'],\n",
       " [\"'dpl-countries'\",\n",
       "  'C:/Users\\\\ahoward\\\\Downloads\\\\Accounts_Monthly_Data-March2019/Prod224_0064_08584936_20180630.html'],\n",
       " [\"'charmap' codec can't decode byte 0x9d in position 27648: character maps to <undefined>\",\n",
       "  'C:/Users\\\\ahoward\\\\Downloads\\\\Accounts_Monthly_Data-March2019/Prod224_0064_07308320_20180630.html'],\n",
       " [\"'dpl-countries'\",\n",
       "  'C:/Users\\\\ahoward\\\\Downloads\\\\Accounts_Monthly_Data-March2019/Prod224_0064_08120998_20180630.html'],\n",
       " [\"'dpl-countries'\",\n",
       "  'C:/Users\\\\ahoward\\\\Downloads\\\\Accounts_Monthly_Data-March2019/Prod224_0064_03576003_20180630.html'],\n",
       " [\"'charmap' codec can't decode byte 0x9d in position 17678: character maps to <undefined>\",\n",
       "  'C:/Users\\\\ahoward\\\\Downloads\\\\Accounts_Monthly_Data-March2019/Prod224_0064_09104821_20180630.html'],\n",
       " [\"'dpl-countries'\",\n",
       "  'C:/Users\\\\ahoward\\\\Downloads\\\\Accounts_Monthly_Data-March2020/Prod224_0076_07668935_20190630.html'],\n",
       " [\"'charmap' codec can't decode byte 0x9d in position 19242: character maps to <undefined>\",\n",
       "  'C:/Users\\\\ahoward\\\\Downloads\\\\Accounts_Monthly_Data-March2020/Prod224_0076_06921736_20190630.html'],\n",
       " [\"'charmap' codec can't decode byte 0x9d in position 262752: character maps to <undefined>\",\n",
       "  'C:/Users\\\\ahoward\\\\Downloads\\\\Accounts_Monthly_Data-March2020/Prod224_0076_05697829_20200228.html'],\n",
       " [\"'dpl-countries'\",\n",
       "  'C:/Users\\\\ahoward\\\\Downloads\\\\Accounts_Monthly_Data-March2020/Prod224_0076_03801700_20190630.html'],\n",
       " [\"'charmap' codec can't decode byte 0x9d in position 24986: character maps to <undefined>\",\n",
       "  'C:/Users\\\\ahoward\\\\Downloads\\\\Accounts_Monthly_Data-March2020/Prod224_0076_04430950_20190630.html'],\n",
       " [\"'dpl-countries'\",\n",
       "  'C:/Users\\\\ahoward\\\\Downloads\\\\Accounts_Monthly_Data-March2020/Prod224_0076_SC344948_20190630.html'],\n",
       " ['The taxonomy with namespace http://www.govtalk.gov.uk/uk/fr/tax/dpl-core/2013-10-01 could not be found. Please check if it is imported in the schema file',\n",
       "  'C:/Users\\\\ahoward\\\\Downloads\\\\Accounts_Monthly_Data-March2020/Prod224_0076_05453907_20190630.html'],\n",
       " [\"'dpl-countries'\",\n",
       "  'C:/Users\\\\ahoward\\\\Downloads\\\\Accounts_Monthly_Data-March2020/Prod224_0076_08584936_20190630.html'],\n",
       " [\"'charmap' codec can't decode byte 0x9d in position 27931: character maps to <undefined>\",\n",
       "  'C:/Users\\\\ahoward\\\\Downloads\\\\Accounts_Monthly_Data-March2020/Prod224_0076_07308320_20190630.html'],\n",
       " [\"'dpl-countries'\",\n",
       "  'C:/Users\\\\ahoward\\\\Downloads\\\\Accounts_Monthly_Data-March2020/Prod224_0076_08120998_20190630.html'],\n",
       " [\"'dpl-countries'\",\n",
       "  'C:/Users\\\\ahoward\\\\Downloads\\\\Accounts_Monthly_Data-March2020/Prod224_0076_03576003_20190630.html'],\n",
       " [\"'charmap' codec can't decode byte 0x9d in position 17832: character maps to <undefined>\",\n",
       "  'C:/Users\\\\ahoward\\\\Downloads\\\\Accounts_Monthly_Data-March2020/Prod224_0076_09104821_20190630.html'],\n",
       " [\"'dpl-frs'\",\n",
       "  'C:/Users\\\\ahoward\\\\Downloads\\\\Accounts_Monthly_Data-March2021/Prod224_0088_07668935_20200630.html'],\n",
       " [\"'dpl-frs'\",\n",
       "  'C:/Users\\\\ahoward\\\\Downloads\\\\Accounts_Monthly_Data-March2021/Prod224_0088_08349846_20201231.html'],\n",
       " [\"'dpl-frs'\",\n",
       "  'C:/Users\\\\ahoward\\\\Downloads\\\\Accounts_Monthly_Data-March2021/Prod224_0088_05697829_20210228.html'],\n",
       " [\"'dpl-frs'\",\n",
       "  'C:/Users\\\\ahoward\\\\Downloads\\\\Accounts_Monthly_Data-March2021/Prod224_0088_03801700_20200630.html'],\n",
       " [\"'charmap' codec can't decode byte 0x9d in position 25587: character maps to <undefined>\",\n",
       "  'C:/Users\\\\ahoward\\\\Downloads\\\\Accounts_Monthly_Data-March2021/Prod224_0088_04430950_20200630.html'],\n",
       " [\"'dpl-frs'\",\n",
       "  'C:/Users\\\\ahoward\\\\Downloads\\\\Accounts_Monthly_Data-March2021/Prod224_0088_SC344948_20200630.html'],\n",
       " [\"'dpl-frs'\",\n",
       "  'C:/Users\\\\ahoward\\\\Downloads\\\\Accounts_Monthly_Data-March2021/Prod224_0088_08584936_20200630.html'],\n",
       " [\"'charmap' codec can't decode byte 0x9d in position 27950: character maps to <undefined>\",\n",
       "  'C:/Users\\\\ahoward\\\\Downloads\\\\Accounts_Monthly_Data-March2021/Prod224_0088_07308320_20200630.html'],\n",
       " [\"'dpl-frs'\",\n",
       "  'C:/Users\\\\ahoward\\\\Downloads\\\\Accounts_Monthly_Data-March2021/Prod224_0088_08120998_20200630.html'],\n",
       " [\"'dpl-frs'\",\n",
       "  'C:/Users\\\\ahoward\\\\Downloads\\\\Accounts_Monthly_Data-March2021/Prod224_0088_03576003_20200630.html'],\n",
       " [\"'charmap' codec can't decode byte 0x9d in position 19599: character maps to <undefined>\",\n",
       "  'C:/Users\\\\ahoward\\\\Downloads\\\\Accounts_Monthly_Data-March2021/Prod224_0088_09104821_20200630.html']]"
      ]
     },
     "execution_count": 66,
     "metadata": {},
     "output_type": "execute_result"
    }
   ],
   "source": [
    "# accounts_errors"
   ]
  },
  {
   "cell_type": "code",
   "execution_count": 27,
   "metadata": {},
   "outputs": [
    {
     "data": {
      "text/plain": [
       "'{\"facts\": {\"f0\": {\"dimensions\": {\"unit\": \"iso4217:GBP\", \"concept\": \"IntangibleAssets\", \"entity\": \"NI044157\", \"period\": \"2019-12-31\"}, \"decimals\": 0, \"value\": 10000.0}, \"f1\": {\"dimensions\": {\"unit\": \"iso4217:GBP\", \"concept\": \"PropertyPlantEquipment\", \"entity\": \"NI044157\", \"period\": \"2020-12-31\"}, \"decimals\": 0, \"value\": 737781.0}, \"f2\": {\"dimensions\": {\"unit\": \"iso4217:GBP\", \"concept\": \"PropertyPlantEquipment\", \"entity\": \"NI044157\", \"period\": \"2019-12-31\"}, \"decimals\": 0, \"value\": 747226.0}, \"f3\": {\"dimensions\": {\"unit\": \"iso4217:GBP\", \"concept\": \"FixedAssets\", \"entity\": \"NI044157\", \"period\": \"2020-12-31\"}, \"decimals\": 0, \"value\": 737781.0}, \"f4\": {\"dimensions\": {\"unit\": \"iso4217:GBP\", \"concept\": \"FixedAssets\", \"entity\": \"NI044157\", \"period\": \"2019-12-31\"}, \"decimals\": 0, \"value\": 757226.0}, \"f5\": {\"dimensions\": {\"unit\": \"iso4217:GBP\", \"concept\": \"TotalInventories\", \"entity\": \"NI044157\", \"period\": \"2020-12-31\"}, \"decimals\": 0, \"value\": 44931.0}, \"f6\": {\"dimensions\": {\"unit\": \"iso4217:GBP\", \"concept\": \"TotalInventories\", \"entity\": \"NI044157\", \"period\": \"2019-12-31\"}, \"decimals\": 0, \"value\": 45577.0}, \"f7\": {\"dimensions\": {\"unit\": \"iso4217:GBP\", \"concept\": \"Debtors\", \"entity\": \"NI044157\", \"period\": \"2020-12-31\"}, \"decimals\": 0, \"value\": 6618.0}, \"f8\": {\"dimensions\": {\"unit\": \"iso4217:GBP\", \"concept\": \"Debtors\", \"entity\": \"NI044157\", \"period\": \"2019-12-31\"}, \"decimals\": 0, \"value\": 8402.0}, \"f9\": {\"dimensions\": {\"unit\": \"iso4217:GBP\", \"concept\": \"CashBankOnHand\", \"entity\": \"NI044157\", \"period\": \"2020-12-31\"}, \"decimals\": 0, \"value\": 83093.0}, \"f10\": {\"dimensions\": {\"unit\": \"iso4217:GBP\", \"concept\": \"CashBankOnHand\", \"entity\": \"NI044157\", \"period\": \"2019-12-31\"}, \"decimals\": 0, \"value\": 24150.0}, \"f11\": {\"dimensions\": {\"unit\": \"iso4217:GBP\", \"concept\": \"CurrentAssets\", \"entity\": \"NI044157\", \"period\": \"2020-12-31\"}, \"decimals\": 0, \"value\": 134642.0}, \"f12\": {\"dimensions\": {\"unit\": \"iso4217:GBP\", \"concept\": \"CurrentAssets\", \"entity\": \"NI044157\", \"period\": \"2019-12-31\"}, \"decimals\": 0, \"value\": 78129.0}, \"f13\": {\"dimensions\": {\"unit\": \"iso4217:GBP\", \"concept\": \"Creditors\", \"entity\": \"NI044157\", \"period\": \"2020-12-31\", \"MaturitiesOrExpirationPeriodsDimension\": \"WithinOneYear\"}, \"decimals\": 0, \"value\": 112475.0}, \"f14\": {\"dimensions\": {\"unit\": \"iso4217:GBP\", \"concept\": \"Creditors\", \"entity\": \"NI044157\", \"period\": \"2019-12-31\", \"MaturitiesOrExpirationPeriodsDimension\": \"WithinOneYear\"}, \"decimals\": 0, \"value\": 92898.0}, \"f15\": {\"dimensions\": {\"unit\": \"iso4217:GBP\", \"concept\": \"NetCurrentAssetsLiabilities\", \"entity\": \"NI044157\", \"period\": \"2020-12-31\"}, \"decimals\": 0, \"value\": 22167.0}, \"f16\": {\"dimensions\": {\"unit\": \"iso4217:GBP\", \"concept\": \"NetCurrentAssetsLiabilities\", \"entity\": \"NI044157\", \"period\": \"2019-12-31\"}, \"decimals\": 0, \"value\": -14769.0}, \"f17\": {\"dimensions\": {\"unit\": \"iso4217:GBP\", \"concept\": \"TotalAssetsLessCurrentLiabilities\", \"entity\": \"NI044157\", \"period\": \"2020-12-31\"}, \"decimals\": 0, \"value\": 759948.0}, \"f18\": {\"dimensions\": {\"unit\": \"iso4217:GBP\", \"concept\": \"TotalAssetsLessCurrentLiabilities\", \"entity\": \"NI044157\", \"period\": \"2019-12-31\"}, \"decimals\": 0, \"value\": 742457.0}, \"f19\": {\"dimensions\": {\"unit\": \"iso4217:GBP\", \"concept\": \"Creditors\", \"entity\": \"NI044157\", \"period\": \"2020-12-31\", \"MaturitiesOrExpirationPeriodsDimension\": \"AfterOneYear\"}, \"decimals\": 0, \"value\": 30127.0}, \"f20\": {\"dimensions\": {\"unit\": \"iso4217:GBP\", \"concept\": \"Creditors\", \"entity\": \"NI044157\", \"period\": \"2019-12-31\", \"MaturitiesOrExpirationPeriodsDimension\": \"AfterOneYear\"}, \"decimals\": 0, \"value\": 43972.0}, \"f21\": {\"dimensions\": {\"unit\": \"iso4217:GBP\", \"concept\": \"ProvisionsForLiabilitiesBalanceSheetSubtotal\", \"entity\": \"NI044157\", \"period\": \"2020-12-31\"}, \"decimals\": 0, \"value\": 6954.0}, \"f22\": {\"dimensions\": {\"unit\": \"iso4217:GBP\", \"concept\": \"ProvisionsForLiabilitiesBalanceSheetSubtotal\", \"entity\": \"NI044157\", \"period\": \"2019-12-31\"}, \"decimals\": 0, \"value\": 8700.0}, \"f23\": {\"dimensions\": {\"unit\": \"iso4217:GBP\", \"concept\": \"NetAssetsLiabilities\", \"entity\": \"NI044157\", \"period\": \"2020-12-31\"}, \"decimals\": 0, \"value\": 722867.0}, \"f24\": {\"dimensions\": {\"unit\": \"iso4217:GBP\", \"concept\": \"NetAssetsLiabilities\", \"entity\": \"NI044157\", \"period\": \"2019-12-31\"}, \"decimals\": 0, \"value\": 689785.0}, \"f25\": {\"dimensions\": {\"unit\": \"iso4217:GBP\", \"concept\": \"Equity\", \"entity\": \"NI044157\", \"period\": \"2020-12-31\", \"EquityClassesDimension\": \"ShareCapital\"}, \"decimals\": 0, \"value\": 4400.0}, \"f26\": {\"dimensions\": {\"unit\": \"iso4217:GBP\", \"concept\": \"Equity\", \"entity\": \"NI044157\", \"period\": \"2019-12-31\", \"EquityClassesDimension\": \"ShareCapital\"}, \"decimals\": 0, \"value\": 4400.0}, \"f27\": {\"dimensions\": {\"unit\": \"iso4217:GBP\", \"concept\": \"Equity\", \"entity\": \"NI044157\", \"period\": \"2020-12-31\", \"EquityClassesDimension\": \"OtherReservesSubtotal\"}, \"decimals\": 0, \"value\": 170084.0}, \"f28\": {\"dimensions\": {\"unit\": \"iso4217:GBP\", \"concept\": \"Equity\", \"entity\": \"NI044157\", \"period\": \"2019-12-31\", \"EquityClassesDimension\": \"OtherReservesSubtotal\"}, \"decimals\": 0, \"value\": 170084.0}, \"f29\": {\"dimensions\": {\"unit\": \"iso4217:GBP\", \"concept\": \"Equity\", \"entity\": \"NI044157\", \"period\": \"2020-12-31\", \"EquityClassesDimension\": \"RetainedEarningsAccumulatedLosses\"}, \"decimals\": 0, \"value\": 548383.0}, \"f30\": {\"dimensions\": {\"unit\": \"iso4217:GBP\", \"concept\": \"Equity\", \"entity\": \"NI044157\", \"period\": \"2019-12-31\", \"EquityClassesDimension\": \"RetainedEarningsAccumulatedLosses\"}, \"decimals\": 0, \"value\": 515301.0}, \"f31\": {\"dimensions\": {\"unit\": \"iso4217:GBP\", \"concept\": \"Equity\", \"entity\": \"NI044157\", \"period\": \"2020-12-31\"}, \"decimals\": 0, \"value\": 722867.0}, \"f32\": {\"dimensions\": {\"unit\": \"iso4217:GBP\", \"concept\": \"Equity\", \"entity\": \"NI044157\", \"period\": \"2019-12-31\"}, \"decimals\": 0, \"value\": 689785.0}, \"f33\": {\"dimensions\": {\"unit\": \"xbrli:pure\", \"concept\": \"AverageNumberEmployeesDuringPeriod\", \"entity\": \"NI044157\", \"period\": \"2020-01-01/2020-12-31\"}, \"decimals\": 0, \"value\": 34.0}, \"f34\": {\"dimensions\": {\"unit\": \"xbrli:pure\", \"concept\": \"AverageNumberEmployeesDuringPeriod\", \"entity\": \"NI044157\", \"period\": \"2019-01-01/2019-12-31\"}, \"decimals\": 0, \"value\": 34.0}, \"f35\": {\"dimensions\": {\"unit\": \"iso4217:GBP\", \"concept\": \"IntangibleAssetsGrossCost\", \"entity\": \"NI044157\", \"period\": \"2019-12-31\", \"IntangibleAssetClassesDimension\": \"Goodwill\"}, \"decimals\": 0, \"value\": 50000.0}, \"f36\": {\"dimensions\": {\"unit\": \"iso4217:GBP\", \"concept\": \"IntangibleAssetsGrossCost\", \"entity\": \"NI044157\", \"period\": \"2020-12-31\", \"IntangibleAssetClassesDimension\": \"Goodwill\"}, \"decimals\": 0, \"value\": 50000.0}, \"f37\": {\"dimensions\": {\"unit\": \"iso4217:GBP\", \"concept\": \"AccumulatedAmortisationImpairmentIntangibleAssets\", \"entity\": \"NI044157\", \"period\": \"2019-12-31\", \"IntangibleAssetClassesDimension\": \"Goodwill\"}, \"decimals\": 0, \"value\": 40000.0}, \"f38\": {\"dimensions\": {\"unit\": \"iso4217:GBP\", \"concept\": \"IncreaseFromAmortisationChargeForYearIntangibleAssets\", \"entity\": \"NI044157\", \"period\": \"2020-01-01/2020-12-31\", \"IntangibleAssetClassesDimension\": \"Goodwill\"}, \"decimals\": 0, \"value\": 10000.0}, \"f39\": {\"dimensions\": {\"unit\": \"iso4217:GBP\", \"concept\": \"AccumulatedAmortisationImpairmentIntangibleAssets\", \"entity\": \"NI044157\", \"period\": \"2020-12-31\", \"IntangibleAssetClassesDimension\": \"Goodwill\"}, \"decimals\": 0, \"value\": 50000.0}, \"f40\": {\"dimensions\": {\"unit\": \"iso4217:GBP\", \"concept\": \"IntangibleAssets\", \"entity\": \"NI044157\", \"period\": \"2019-12-31\", \"IntangibleAssetClassesDimension\": \"Goodwill\"}, \"decimals\": 0, \"value\": 10000.0}, \"f41\": {\"dimensions\": {\"unit\": \"iso4217:GBP\", \"concept\": \"PropertyPlantEquipmentGrossCost\", \"entity\": \"NI044157\", \"period\": \"2019-12-31\", \"PropertyPlantEquipmentClassesDimension\": \"LandBuildings\"}, \"decimals\": 0, \"value\": 700000.0}, \"f42\": {\"dimensions\": {\"unit\": \"iso4217:GBP\", \"concept\": \"PropertyPlantEquipmentGrossCost\", \"entity\": \"NI044157\", \"period\": \"2019-12-31\", \"PropertyPlantEquipmentClassesDimension\": \"PlantMachinery\"}, \"decimals\": 0, \"value\": 134000.0}, \"f43\": {\"dimensions\": {\"unit\": \"iso4217:GBP\", \"concept\": \"PropertyPlantEquipmentGrossCost\", \"entity\": \"NI044157\", \"period\": \"2019-12-31\"}, \"decimals\": 0, \"value\": 834000.0}, \"f44\": {\"dimensions\": {\"unit\": \"iso4217:GBP\", \"concept\": \"PropertyPlantEquipmentGrossCost\", \"entity\": \"NI044157\", \"period\": \"2020-12-31\", \"PropertyPlantEquipmentClassesDimension\": \"LandBuildings\"}, \"decimals\": 0, \"value\": 700000.0}, \"f45\": {\"dimensions\": {\"unit\": \"iso4217:GBP\", \"concept\": \"PropertyPlantEquipmentGrossCost\", \"entity\": \"NI044157\", \"period\": \"2020-12-31\", \"PropertyPlantEquipmentClassesDimension\": \"PlantMachinery\"}, \"decimals\": 0, \"value\": 134000.0}, \"f46\": {\"dimensions\": {\"unit\": \"iso4217:GBP\", \"concept\": \"PropertyPlantEquipmentGrossCost\", \"entity\": \"NI044157\", \"period\": \"2020-12-31\"}, \"decimals\": 0, \"value\": 834000.0}, \"f47\": {\"dimensions\": {\"unit\": \"iso4217:GBP\", \"concept\": \"AccumulatedDepreciationImpairmentPropertyPlantEquipment\", \"entity\": \"NI044157\", \"period\": \"2019-12-31\", \"PropertyPlantEquipmentClassesDimension\": \"PlantMachinery\"}, \"decimals\": 0, \"value\": 86774.0}, \"f48\": {\"dimensions\": {\"unit\": \"iso4217:GBP\", \"concept\": \"AccumulatedDepreciationImpairmentPropertyPlantEquipment\", \"entity\": \"NI044157\", \"period\": \"2019-12-31\"}, \"decimals\": 0, \"value\": 86774.0}, \"f49\": {\"dimensions\": {\"unit\": \"iso4217:GBP\", \"concept\": \"IncreaseFromDepreciationChargeForYearPropertyPlantEquipment\", \"entity\": \"NI044157\", \"period\": \"2020-01-01/2020-12-31\", \"PropertyPlantEquipmentClassesDimension\": \"PlantMachinery\"}, \"decimals\": 0, \"value\": 9445.0}, \"f50\": {\"dimensions\": {\"unit\": \"iso4217:GBP\", \"concept\": \"IncreaseFromDepreciationChargeForYearPropertyPlantEquipment\", \"entity\": \"NI044157\", \"period\": \"2020-01-01/2020-12-31\"}, \"decimals\": 0, \"value\": 9445.0}, \"f51\": {\"dimensions\": {\"unit\": \"iso4217:GBP\", \"concept\": \"AccumulatedDepreciationImpairmentPropertyPlantEquipment\", \"entity\": \"NI044157\", \"period\": \"2020-12-31\", \"PropertyPlantEquipmentClassesDimension\": \"PlantMachinery\"}, \"decimals\": 0, \"value\": 96219.0}, \"f52\": {\"dimensions\": {\"unit\": \"iso4217:GBP\", \"concept\": \"AccumulatedDepreciationImpairmentPropertyPlantEquipment\", \"entity\": \"NI044157\", \"period\": \"2020-12-31\"}, \"decimals\": 0, \"value\": 96219.0}, \"f53\": {\"dimensions\": {\"unit\": \"iso4217:GBP\", \"concept\": \"PropertyPlantEquipment\", \"entity\": \"NI044157\", \"period\": \"2020-12-31\", \"PropertyPlantEquipmentClassesDimension\": \"LandBuildings\"}, \"decimals\": 0, \"value\": 700000.0}, \"f54\": {\"dimensions\": {\"unit\": \"iso4217:GBP\", \"concept\": \"PropertyPlantEquipment\", \"entity\": \"NI044157\", \"period\": \"2020-12-31\", \"PropertyPlantEquipmentClassesDimension\": \"PlantMachinery\"}, \"decimals\": 0, \"value\": 37781.0}, \"f55\": {\"dimensions\": {\"unit\": \"iso4217:GBP\", \"concept\": \"PropertyPlantEquipment\", \"entity\": \"NI044157\", \"period\": \"2020-12-31\"}, \"decimals\": 0, \"value\": 737781.0}, \"f56\": {\"dimensions\": {\"unit\": \"iso4217:GBP\", \"concept\": \"PropertyPlantEquipment\", \"entity\": \"NI044157\", \"period\": \"2019-12-31\", \"PropertyPlantEquipmentClassesDimension\": \"LandBuildings\"}, \"decimals\": 0, \"value\": 700000.0}, \"f57\": {\"dimensions\": {\"unit\": \"iso4217:GBP\", \"concept\": \"PropertyPlantEquipment\", \"entity\": \"NI044157\", \"period\": \"2019-12-31\", \"PropertyPlantEquipmentClassesDimension\": \"PlantMachinery\"}, \"decimals\": 0, \"value\": 47226.0}, \"f58\": {\"dimensions\": {\"unit\": \"iso4217:GBP\", \"concept\": \"PropertyPlantEquipment\", \"entity\": \"NI044157\", \"period\": \"2019-12-31\"}, \"decimals\": 0, \"value\": 747226.0}, \"f59\": {\"dimensions\": {\"unit\": \"iso4217:GBP\", \"concept\": \"TradeDebtorsTradeReceivables\", \"entity\": \"NI044157\", \"period\": \"2020-12-31\"}, \"decimals\": 0, \"value\": 253.0}, \"f60\": {\"dimensions\": {\"unit\": \"iso4217:GBP\", \"concept\": \"TradeDebtorsTradeReceivables\", \"entity\": \"NI044157\", \"period\": \"2019-12-31\"}, \"decimals\": 0, \"value\": 250.0}, \"f61\": {\"dimensions\": {\"unit\": \"iso4217:GBP\", \"concept\": \"OtherDebtors\", \"entity\": \"NI044157\", \"period\": \"2020-12-31\"}, \"decimals\": 0, \"value\": 6365.0}, \"f62\": {\"dimensions\": {\"unit\": \"iso4217:GBP\", \"concept\": \"OtherDebtors\", \"entity\": \"NI044157\", \"period\": \"2019-12-31\"}, \"decimals\": 0, \"value\": 8152.0}, \"f63\": {\"dimensions\": {\"unit\": \"iso4217:GBP\", \"concept\": \"Debtors\", \"entity\": \"NI044157\", \"period\": \"2020-12-31\"}, \"decimals\": 0, \"value\": 6618.0}, \"f64\": {\"dimensions\": {\"unit\": \"iso4217:GBP\", \"concept\": \"Debtors\", \"entity\": \"NI044157\", \"period\": \"2019-12-31\"}, \"decimals\": 0, \"value\": 8402.0}, \"f65\": {\"dimensions\": {\"unit\": \"iso4217:GBP\", \"concept\": \"BankOverdrafts\", \"entity\": \"NI044157\", \"period\": \"2020-12-31\", \"MaturitiesOrExpirationPeriodsDimension\": \"WithinOneYear\"}, \"decimals\": 0, \"value\": 5000.0}, \"f66\": {\"dimensions\": {\"unit\": \"iso4217:GBP\", \"concept\": \"BankOverdrafts\", \"entity\": \"NI044157\", \"period\": \"2019-12-31\", \"MaturitiesOrExpirationPeriodsDimension\": \"WithinOneYear\"}, \"decimals\": 0, \"value\": 4999.0}, \"f67\": {\"dimensions\": {\"unit\": \"iso4217:GBP\", \"concept\": \"TradeCreditorsTradePayables\", \"entity\": \"NI044157\", \"period\": \"2020-12-31\", \"MaturitiesOrExpirationPeriodsDimension\": \"WithinOneYear\"}, \"decimals\": 0, \"value\": 59199.0}, \"f68\": {\"dimensions\": {\"unit\": \"iso4217:GBP\", \"concept\": \"TradeCreditorsTradePayables\", \"entity\": \"NI044157\", \"period\": \"2019-12-31\", \"MaturitiesOrExpirationPeriodsDimension\": \"WithinOneYear\"}, \"decimals\": 0, \"value\": 51925.0}, \"f69\": {\"dimensions\": {\"unit\": \"iso4217:GBP\", \"concept\": \"TaxationSocialSecurityPayable\", \"entity\": \"NI044157\", \"period\": \"2020-12-31\", \"MaturitiesOrExpirationPeriodsDimension\": \"WithinOneYear\"}, \"decimals\": 0, \"value\": 25047.0}, \"f70\": {\"dimensions\": {\"unit\": \"iso4217:GBP\", \"concept\": \"TaxationSocialSecurityPayable\", \"entity\": \"NI044157\", \"period\": \"2019-12-31\", \"MaturitiesOrExpirationPeriodsDimension\": \"WithinOneYear\"}, \"decimals\": 0, \"value\": 16627.0}, \"f71\": {\"dimensions\": {\"unit\": \"iso4217:GBP\", \"concept\": \"OtherCreditors\", \"entity\": \"NI044157\", \"period\": \"2020-12-31\", \"MaturitiesOrExpirationPeriodsDimension\": \"WithinOneYear\"}, \"decimals\": 0, \"value\": 23229.0}, \"f72\": {\"dimensions\": {\"unit\": \"iso4217:GBP\", \"concept\": \"OtherCreditors\", \"entity\": \"NI044157\", \"period\": \"2019-12-31\", \"MaturitiesOrExpirationPeriodsDimension\": \"WithinOneYear\"}, \"decimals\": 0, \"value\": 19347.0}, \"f73\": {\"dimensions\": {\"unit\": \"iso4217:GBP\", \"concept\": \"Creditors\", \"entity\": \"NI044157\", \"period\": \"2020-12-31\", \"MaturitiesOrExpirationPeriodsDimension\": \"WithinOneYear\"}, \"decimals\": 0, \"value\": 112475.0}, \"f74\": {\"dimensions\": {\"unit\": \"iso4217:GBP\", \"concept\": \"Creditors\", \"entity\": \"NI044157\", \"period\": \"2019-12-31\", \"MaturitiesOrExpirationPeriodsDimension\": \"WithinOneYear\"}, \"decimals\": 0, \"value\": 92898.0}, \"f75\": {\"dimensions\": {\"unit\": \"iso4217:GBP\", \"concept\": \"BankBorrowings\", \"entity\": \"NI044157\", \"period\": \"2020-12-31\", \"MaturitiesOrExpirationPeriodsDimension\": \"AfterOneYear\"}, \"decimals\": 0, \"value\": 7595.0}, \"f76\": {\"dimensions\": {\"unit\": \"iso4217:GBP\", \"concept\": \"BankBorrowings\", \"entity\": \"NI044157\", \"period\": \"2019-12-31\", \"MaturitiesOrExpirationPeriodsDimension\": \"AfterOneYear\"}, \"decimals\": 0, \"value\": 12692.0}, \"f77\": {\"dimensions\": {\"unit\": \"iso4217:GBP\", \"concept\": \"OtherCreditors\", \"entity\": \"NI044157\", \"period\": \"2020-12-31\", \"MaturitiesOrExpirationPeriodsDimension\": \"AfterOneYear\"}, \"decimals\": 0, \"value\": 22532.0}, \"f78\": {\"dimensions\": {\"unit\": \"iso4217:GBP\", \"concept\": \"OtherCreditors\", \"entity\": \"NI044157\", \"period\": \"2019-12-31\", \"MaturitiesOrExpirationPeriodsDimension\": \"AfterOneYear\"}, \"decimals\": 0, \"value\": 31280.0}, \"f79\": {\"dimensions\": {\"unit\": \"iso4217:GBP\", \"concept\": \"Creditors\", \"entity\": \"NI044157\", \"period\": \"2020-12-31\", \"MaturitiesOrExpirationPeriodsDimension\": \"AfterOneYear\"}, \"decimals\": 0, \"value\": 30127.0}, \"f80\": {\"dimensions\": {\"unit\": \"iso4217:GBP\", \"concept\": \"Creditors\", \"entity\": \"NI044157\", \"period\": \"2019-12-31\", \"MaturitiesOrExpirationPeriodsDimension\": \"AfterOneYear\"}, \"decimals\": 0, \"value\": 43972.0}, \"f81\": {\"dimensions\": {\"unit\": \"iso4217:GBP\", \"concept\": \"Equity\", \"entity\": \"NI044157\", \"period\": \"2019-12-31\", \"EquityClassesDimension\": \"RevaluationReserve\"}, \"decimals\": 0, \"value\": 170084.0}, \"f82\": {\"dimensions\": {\"unit\": \"iso4217:GBP\", \"concept\": \"Equity\", \"entity\": \"NI044157\", \"period\": \"2018-12-31\", \"EquityClassesDimension\": \"RevaluationReserve\"}, \"decimals\": 0, \"value\": 170084.0}, \"f83\": {\"dimensions\": {\"unit\": \"iso4217:GBP\", \"concept\": \"Equity\", \"entity\": \"NI044157\", \"period\": \"2020-12-31\", \"EquityClassesDimension\": \"RevaluationReserve\"}, \"decimals\": 0, \"value\": 170084.0}, \"f84\": {\"dimensions\": {\"unit\": \"iso4217:GBP\", \"concept\": \"Equity\", \"entity\": \"NI044157\", \"period\": \"2019-12-31\", \"EquityClassesDimension\": \"RevaluationReserve\"}, \"decimals\": 0, \"value\": 170084.0}, \"f85\": {\"value\": \"NI044157\", \"dimensions\": {\"concept\": \"UKCompaniesHouseRegisteredNumber\", \"entity\": \"NI044157\", \"period\": \"2020-01-01/2020-12-31\"}}, \"f86\": {\"value\": \"JMK Enterprises Limited\", \"dimensions\": {\"concept\": \"EntityCurrentLegalOrRegisteredName\", \"entity\": \"NI044157\", \"period\": \"2020-01-01/2020-12-31\"}}, \"f87\": {\"value\": \"Unaudited Filleted Accounts\", \"dimensions\": {\"concept\": \"ReportTitle\", \"entity\": \"NI044157\", \"period\": \"2020-01-01/2020-12-31\"}}, \"f88\": {\"value\": \"2020-12-31\", \"dimensions\": {\"concept\": \"EndDateForPeriodCoveredByReport\", \"entity\": \"NI044157\", \"period\": \"2020-12-31\"}}, \"f89\": {\"value\": \"JMK Enterprises Limited\", \"dimensions\": {\"concept\": \"EntityCurrentLegalOrRegisteredName\", \"entity\": \"NI044157\", \"period\": \"2020-01-01/2020-12-31\"}}, \"f90\": {\"value\": \"NI044157\", \"dimensions\": {\"concept\": \"UKCompaniesHouseRegisteredNumber\", \"entity\": \"NI044157\", \"period\": \"2020-01-01/2020-12-31\"}}, \"f91\": {\"value\": \"2020-12-31\", \"dimensions\": {\"concept\": \"BalanceSheetDate\", \"entity\": \"NI044157\", \"period\": \"2020-12-31\"}}, \"f92\": {\"value\": \"The directors are satisfied that the company is entitled to exemption from the requirement to obtain an audit under section 477 of the Companies Act 2006.\", \"dimensions\": {\"concept\": \"StatementThatCompanyEntitledToExemptionFromAuditUnderSection477CompaniesAct2006RelatingToSmallCompanies\", \"entity\": \"NI044157\", \"period\": \"2020-01-01/2020-12-31\"}}, \"f93\": {\"value\": \"The members have not required the company to obtain an audit in accordance with section 476 of the Act.\", \"dimensions\": {\"concept\": \"StatementThatMembersHaveNotRequiredCompanyToObtainAnAudit\", \"entity\": \"NI044157\", \"period\": \"2020-01-01/2020-12-31\"}}, \"f94\": {\"value\": \"The directors acknowledge their responsibilities for complying with the requirements of the Companies Act 2006 with respect to accounting records and the preparation of accounts.\", \"dimensions\": {\"concept\": \"StatementThatDirectorsAcknowledgeTheirResponsibilitiesUnderCompaniesAct\", \"entity\": \"NI044157\", \"period\": \"2020-01-01/2020-12-31\"}}, \"f95\": {\"value\": \"The accounts have been prepared and delivered in accordance with the special provisions applicable to companies subject to the small companies regime. The profit and loss account has not been delivered to the Registrar of Companies.\", \"dimensions\": {\"concept\": \"StatementThatAccountsHaveBeenPreparedInAccordanceWithProvisionsSmallCompaniesRegime\", \"entity\": \"NI044157\", \"period\": \"2020-01-01/2020-12-31\"}}, \"f96\": {\"value\": \"2021-03-09\", \"dimensions\": {\"concept\": \"DateAuthorisationFinancialStatementsForIssue\", \"entity\": \"NI044157\", \"period\": \"2020-12-31\"}}, \"f97\": {\"value\": \"JMK Enterprises Limited\", \"dimensions\": {\"concept\": \"EntityCurrentLegalOrRegisteredName\", \"entity\": \"NI044157\", \"period\": \"2020-01-01/2020-12-31\"}}, \"f98\": {\"value\": \"2020-12-31\", \"dimensions\": {\"concept\": \"EndDateForPeriodCoveredByReport\", \"entity\": \"NI044157\", \"period\": \"2020-12-31\"}}, \"f99\": {\"value\": \"The accounts have been prepared under the historical cost convention and in accordance with FRS 102, The Financial Reporting Standard applicable in the UK and Republic of Ireland (as applied to small entities by section 1A of the standard).\", \"dimensions\": {\"concept\": \"StatementComplianceWithApplicableReportingFramework\", \"entity\": \"NI044157\", \"period\": \"2020-01-01/2020-12-31\"}}, \"f100\": {\"value\": \"Turnover is measured at the fair value of the consideration received or receivable, net of discounts and value added taxes. Turnover includes revenue earned from the sale of goods and from the rendering of services. Turnover from the sale of goods is recognised when the significant risks and rewards of ownership of the goods have transferred to the buyer. Turnover from the rendering of services is recognised by reference to the stage of completion of the contract. The stage of completion of a contract is measured by comparing the costs incurred for work performed to date to the total estimated contract costs.\", \"dimensions\": {\"concept\": \"RevenueRecognitionPolicy\", \"entity\": \"NI044157\", \"period\": \"2020-01-01/2020-12-31\"}}, \"f101\": {\"value\": \"Intangible fixed assets are measured at cost less accumulative amortisation and any accumulative impairment losses.\", \"dimensions\": {\"concept\": \"IntangibleAssetsPolicy\", \"entity\": \"NI044157\", \"period\": \"2020-01-01/2020-12-31\"}}, \"f102\": {\"value\": \"Tangible fixed assets are measured at cost less accumulative depreciation and any accumulative impairment losses. Depreciation is provided on all tangible fixed assets, other than freehold land, at rates calculated to write off the cost, less estimated residual value, of each asset evenly over its expected useful life, as follows:\", \"dimensions\": {\"concept\": \"PropertyPlantEquipmentPolicy\", \"entity\": \"NI044157\", \"period\": \"2020-01-01/2020-12-31\"}}, \"f103\": {\"value\": \"Stocks are measured at the lower of cost and estimated selling price less costs to complete and sell. Cost is determined using the first in first out method. The carrying amount of stock sold is recognised as an expense in the period in which the related revenue is recognised.\", \"dimensions\": {\"concept\": \"InventoriesPolicy\", \"entity\": \"NI044157\", \"period\": \"2020-01-01/2020-12-31\"}}, \"f104\": {\"value\": \"Short term debtors are measured at transaction price (which is usually the invoice price), less any impairment losses for bad and doubtful debts. Loans and other financial assets are initially recognised at transaction price including any transaction costs and subsequently measured at amortised cost determined using the effective interest method, less any impairment losses for bad and doubtful debts.\", \"dimensions\": {\"concept\": \"ContentOtherSpecificAccountingPolicy\", \"entity\": \"NI044157\", \"period\": \"2020-01-01/2020-12-31\"}}, \"f105\": {\"value\": \"Short term creditors are measured at transaction price (which is usually the invoice price). Loans and other financial liabilities are initially recognised at transaction price net of any transaction costs and subsequently measured at amortised cost determined using the effective interest method.\", \"dimensions\": {\"concept\": \"ContentOtherSpecificAccountingPolicy\", \"entity\": \"NI044157\", \"period\": \"2020-01-01/2020-12-31\"}}, \"f106\": {\"value\": \"A current tax liability is recognised for the tax payable on the taxable profit of the current and past periods. A current tax asset is recognised in respect of a tax loss that can be carried back to recover tax paid in a previous period. Deferred tax is recognised in respect of all timing differences between the recognition of income and expenses in the financial statements and their inclusion in tax assessments. Unrelieved tax losses and other deferred tax assets are recognised only to the extent that it is probable that they will be recovered against the reversal of deferred tax liabilities or other future taxable profits. Deferred tax is measured using the tax rates and laws that have been enacted or substantively enacted by the reporting date and that are expected to apply to the reversal of the timing difference, except for revalued land and investment property where the tax rate that applies to the sale of the asset is used. Current and deferred tax assets and liabilities are not discounted.\", \"dimensions\": {\"concept\": \"TaxPolicy\", \"entity\": \"NI044157\", \"period\": \"2020-01-01/2020-12-31\"}}, \"f107\": {\"value\": \"Provisions (i.e. liabilities of uncertain timing or amount) are recognised when there is an obligation at the reporting date as a result of a past event, it is probable that economic benefit will be transferred to settle the obligation and the amount of the obligation can be estimated reliably.\", \"dimensions\": {\"concept\": \"ProvisionsPolicy\", \"entity\": \"NI044157\", \"period\": \"2020-01-01/2020-12-31\"}}, \"f108\": {\"value\": \"Contributions to defined contribution plans are expensed in the period to which they relate.\", \"dimensions\": {\"concept\": \"DefinedContributionPensionsPolicy\", \"entity\": \"NI044157\", \"period\": \"2020-01-01/2020-12-31\"}}, \"f109\": {\"value\": \"JMK Enterprises Limited\", \"dimensions\": {\"concept\": \"EntityCurrentLegalOrRegisteredName\", \"entity\": \"NI044157\", \"period\": \"2020-01-01/2020-12-31\"}}, \"f110\": {\"value\": \"NI044157\", \"dimensions\": {\"concept\": \"UKCompaniesHouseRegisteredNumber\", \"entity\": \"NI044157\", \"period\": \"2020-01-01/2020-12-31\"}}, \"f111\": {\"value\": \"false\", \"dimensions\": {\"concept\": \"EntityDormantTruefalse\", \"entity\": \"NI044157\", \"period\": \"2020-01-01/2020-12-31\"}}, \"f112\": {\"value\": \"\", \"dimensions\": {\"concept\": \"EntityTradingStatus\", \"entity\": \"NI044157\", \"period\": \"2020-01-01/2020-12-31\"}}, \"f113\": {\"value\": \"2020-01-01\", \"dimensions\": {\"concept\": \"StartDateForPeriodCoveredByReport\", \"entity\": \"NI044157\", \"period\": \"2019-12-31\"}}, \"f114\": {\"value\": \"2020-12-31\", \"dimensions\": {\"concept\": \"EndDateForPeriodCoveredByReport\", \"entity\": \"NI044157\", \"period\": \"2020-12-31\"}}, \"f115\": {\"value\": \"2020-12-31\", \"dimensions\": {\"concept\": \"BalanceSheetDate\", \"entity\": \"NI044157\", \"period\": \"2020-12-31\"}}, \"f116\": {\"value\": \"\", \"dimensions\": {\"concept\": \"LegalFormEntity\", \"entity\": \"NI044157\", \"period\": \"2020-01-01/2020-12-31\", \"LegalFormEntityDimension\": \"PrivateLimitedCompanyLtd\"}}, \"f117\": {\"value\": \"\", \"dimensions\": {\"concept\": \"AccountsStatusAuditedOrUnaudited\", \"entity\": \"NI044157\", \"period\": \"2020-01-01/2020-12-31\", \"AccountsStatusDimension\": \"AuditExemptWithAccountantsReport\"}}, \"f118\": {\"value\": \"VT Final Accounts\", \"dimensions\": {\"concept\": \"NameProductionSoftware\", \"entity\": \"NI044157\", \"period\": \"2020-01-01/2020-12-31\"}}, \"f119\": {\"value\": \"June 2020 release 2\", \"dimensions\": {\"concept\": \"VersionProductionSoftware\", \"entity\": \"NI044157\", \"period\": \"2020-01-01/2020-12-31\"}}, \"f120\": {\"value\": \"\", \"dimensions\": {\"concept\": \"DirectorSigningFinancialStatements\", \"entity\": \"NI044157\", \"period\": \"2020-01-01/2020-12-31\", \"EntityOfficersDimension\": \"Director40\"}}, \"f121\": {\"value\": \"John McKenna\", \"dimensions\": {\"concept\": \"NameEntityOfficer\", \"entity\": \"NI044157\", \"period\": \"2020-01-01/2020-12-31\", \"EntityOfficersDimension\": \"Director40\"}}, \"f122\": {\"value\": \"\", \"dimensions\": {\"concept\": \"CountryFormationOrIncorporation\", \"entity\": \"NI044157\", \"period\": \"2020-01-01/2020-12-31\", \"CountriesRegionsDimension\": \"England\"}}, \"f123\": {\"value\": \"\", \"dimensions\": {\"concept\": \"AccountingStandardsApplied\", \"entity\": \"NI044157\", \"period\": \"2020-01-01/2020-12-31\", \"AccountingStandardsDimension\": \"FRS102\"}}, \"f124\": {\"value\": \"No description of principal activity\", \"dimensions\": {\"concept\": \"DescriptionPrincipalActivities\", \"entity\": \"NI044157\", \"period\": \"2020-01-01/2020-12-31\"}}, \"f125\": {\"value\": \"\", \"dimensions\": {\"concept\": \"AccountsTypeFullOrAbbreviated\", \"entity\": \"NI044157\", \"period\": \"2020-01-01/2020-12-31\", \"AccountsTypeDimension\": \"FullAccounts\"}}}, \"documentInfo\": {\"documentType\": \"https://xbrl.org/2021/xbrl-json\", \"taxonomy\": [\"http://www.xbrl.org/2005/xbrldt-2005.xsd\", \"https://xbrl.frc.org.uk/cd/2019-01-01/currencies/currencies-2019-01-01.xsd\", \"https://xbrl.frc.org.uk/reports/2019-01-01/accrep/accrep-2019-01-01.xsd\", \"https://xbrl.frc.org.uk/general/2019-01-01/common/common-2019-01-01.xsd\", \"https://xbrl.frc.org.uk/cd/2019-01-01/countries-regions/countries-2019-01-01.xsd\", \"https://xbrl.frc.org.uk/general/2019-01-01/types/types-2019-01-01.xsd\", \"https://xbrl.frc.org.uk/cd/2019-01-01/business/bus-2019-01-01.xsd\", \"http://www.xbrl.org/2003/xbrl-linkbase-2003-12-31.xsd\", \"https://xbrl.frc.org.uk/reports/2019-01-01/aurep/aurep-2019-01-01.xsd\", \"https://xbrl.frc.org.uk/fr/2019-01-01/core/frc-core-2019-01-01.xsd\", \"http://www.xbrl.org/2006/ref-2006-02-27.xsd\", \"http://www.xbrl.org/2003/xl-2003-12-31.xsd\", \"http://www.xbrl.org/2004/ref-2004-08-10.xsd\", \"https://xbrl.frc.org.uk/general/2019-01-01/ref/ref-2019-01-01.xsd\", \"http://www.xbrl.org/2003/xbrl-instance-2003-12-31.xsd\", \"http://www.xbrl.org/dtr/type/nonNumeric-2009-12-16.xsd\", \"https://xbrl.frc.org.uk/cd/2019-01-01/languages/languages-2019-01-01.xsd\", \"http://www.xbrl.org/dtr/type/numeric-2009-12-16.xsd\", \"https://xbrl.frc.org.uk/reports/2019-01-01/direp/direp-2019-01-01.xsd\", \"https://xbrl.frc.org.uk/FRS-102/2019-01-01/FRS-102-2019-01-01.xsd\", \"http://www.xbrl.org/2003/xlink-2003-12-31.xsd\"], \"baseUrl\": \"C:/Users\\\\\\\\ahoward\\\\\\\\Downloads\\\\\\\\Accounts_Monthly_Data-March2021/Prod224_0088_NI044157_20201231.html\"}}'"
      ]
     },
     "execution_count": 27,
     "metadata": {},
     "output_type": "execute_result"
    }
   ],
   "source": [
    "xbrl_instance.json()"
   ]
  },
  {
   "cell_type": "code",
   "execution_count": 7,
   "metadata": {},
   "outputs": [
    {
     "data": {
      "text/plain": [
       "'2020-06-30'"
      ]
     },
     "execution_count": 7,
     "metadata": {},
     "output_type": "execute_result"
    }
   ],
   "source": [
    "import dateutil.parser\n",
    "\n",
    "dateutil.parser.parse('30 June 2020').date().isoformat()\n"
   ]
  },
  {
   "cell_type": "code",
   "execution_count": 23,
   "metadata": {},
   "outputs": [
    {
     "data": {
      "text/plain": [
       "True"
      ]
     },
     "execution_count": 23,
     "metadata": {},
     "output_type": "execute_result"
    }
   ],
   "source": [
    "start = None\n",
    "end = None\n",
    "\n",
    "all(period is None for period in [start, end])"
   ]
  },
  {
   "cell_type": "code",
   "execution_count": 24,
   "metadata": {},
   "outputs": [
    {
     "data": {
      "text/plain": [
       "2"
      ]
     },
     "execution_count": 24,
     "metadata": {},
     "output_type": "execute_result"
    }
   ],
   "source": [
    "array = ['foo', 'bar', 'foobar']\n",
    "\n",
    "len([f for f in array if 'foo' in f])"
   ]
  },
  {
   "cell_type": "code",
   "execution_count": 31,
   "metadata": {},
   "outputs": [
    {
     "name": "stdout",
     "output_type": "stream",
     "text": [
      "True\n",
      "True\n"
     ]
    }
   ],
   "source": [
    "import dateutil\n",
    "period = '2020-07-01/2021-06-30'\n",
    "start = '2020-07-01'\n",
    "end = '2021-06-30'\n",
    "\n",
    "period_start, period_end = period.split('/')\n",
    "\n",
    "print (\n",
    "    dateutil.parser.parse(period_start) <= dateutil.parser.parse(start)\n",
    ")\n",
    "print (\n",
    "    dateutil.parser.parse(period_end) >= dateutil.parser.parse(end)\n",
    ")"
   ]
  },
  {
   "cell_type": "code",
   "execution_count": 25,
   "metadata": {},
   "outputs": [],
   "source": [
    "logging.basicConfig(level=logging.INFO)\n",
    "\n",
    "cache = HttpCache('./cache')\n",
    "cache.set_headers({'From': 'ahoward@companieshouse.gov.uk', 'User-Agent': 'py-xbrl/2.1.0'})\n",
    "parser = XbrlParser(cache)\n",
    "account_path = path.join(root, f)\n",
    "\n",
    "xbrl_instance = parser.parse_instance(account_path)\n"
   ]
  },
  {
   "cell_type": "code",
   "execution_count": 29,
   "metadata": {},
   "outputs": [
    {
     "name": "stdout",
     "output_type": "stream",
     "text": [
      "{'dimensions': {'unit': 'iso4217:GBP', 'concept': 'Equity', 'entity': 'NI044157', 'period': '2020-12-31', 'EquityClassesDimension': 'ShareCapital'}, 'decimals': 0, 'value': 4400.0}\n",
      "{'dimensions': {'unit': 'iso4217:GBP', 'concept': 'Equity', 'entity': 'NI044157', 'period': '2019-12-31', 'EquityClassesDimension': 'ShareCapital'}, 'decimals': 0, 'value': 4400.0}\n",
      "{'dimensions': {'unit': 'iso4217:GBP', 'concept': 'Equity', 'entity': 'NI044157', 'period': '2020-12-31', 'EquityClassesDimension': 'OtherReservesSubtotal'}, 'decimals': 0, 'value': 170084.0}\n",
      "{'dimensions': {'unit': 'iso4217:GBP', 'concept': 'Equity', 'entity': 'NI044157', 'period': '2019-12-31', 'EquityClassesDimension': 'OtherReservesSubtotal'}, 'decimals': 0, 'value': 170084.0}\n",
      "{'dimensions': {'unit': 'iso4217:GBP', 'concept': 'Equity', 'entity': 'NI044157', 'period': '2020-12-31', 'EquityClassesDimension': 'RetainedEarningsAccumulatedLosses'}, 'decimals': 0, 'value': 548383.0}\n",
      "{'dimensions': {'unit': 'iso4217:GBP', 'concept': 'Equity', 'entity': 'NI044157', 'period': '2019-12-31', 'EquityClassesDimension': 'RetainedEarningsAccumulatedLosses'}, 'decimals': 0, 'value': 515301.0}\n",
      "{'dimensions': {'unit': 'iso4217:GBP', 'concept': 'Equity', 'entity': 'NI044157', 'period': '2020-12-31'}, 'decimals': 0, 'value': 722867.0}\n",
      "{'dimensions': {'unit': 'iso4217:GBP', 'concept': 'Equity', 'entity': 'NI044157', 'period': '2019-12-31'}, 'decimals': 0, 'value': 689785.0}\n",
      "{'dimensions': {'unit': 'iso4217:GBP', 'concept': 'Equity', 'entity': 'NI044157', 'period': '2019-12-31', 'EquityClassesDimension': 'RevaluationReserve'}, 'decimals': 0, 'value': 170084.0}\n",
      "{'dimensions': {'unit': 'iso4217:GBP', 'concept': 'Equity', 'entity': 'NI044157', 'period': '2018-12-31', 'EquityClassesDimension': 'RevaluationReserve'}, 'decimals': 0, 'value': 170084.0}\n",
      "{'dimensions': {'unit': 'iso4217:GBP', 'concept': 'Equity', 'entity': 'NI044157', 'period': '2020-12-31', 'EquityClassesDimension': 'RevaluationReserve'}, 'decimals': 0, 'value': 170084.0}\n",
      "{'dimensions': {'unit': 'iso4217:GBP', 'concept': 'Equity', 'entity': 'NI044157', 'period': '2019-12-31', 'EquityClassesDimension': 'RevaluationReserve'}, 'decimals': 0, 'value': 170084.0}\n"
     ]
    }
   ],
   "source": [
    "for fact in xbrl_instance.facts:\n",
    "    if fact.concept.name == \"Equity\":\n",
    "        print(fact.json())"
   ]
  },
  {
   "cell_type": "code",
   "execution_count": 24,
   "metadata": {},
   "outputs": [
    {
     "data": {
      "text/plain": [
       "'C:/Users\\\\ahoward\\\\Downloads\\\\Accounts_Monthly_Data-March2021/Prod224_0088_NI044157_20201231.html'"
      ]
     },
     "execution_count": 24,
     "metadata": {},
     "output_type": "execute_result"
    }
   ],
   "source": [
    "account_path"
   ]
  },
  {
   "cell_type": "code",
   "execution_count": null,
   "metadata": {},
   "outputs": [],
   "source": []
  }
 ],
 "metadata": {
  "kernelspec": {
   "display_name": "Python 3.9.13 ('DefaultDataScience')",
   "language": "python",
   "name": "python3"
  },
  "language_info": {
   "codemirror_mode": {
    "name": "ipython",
    "version": 3
   },
   "file_extension": ".py",
   "mimetype": "text/x-python",
   "name": "python",
   "nbconvert_exporter": "python",
   "pygments_lexer": "ipython3",
   "version": "3.9.13 (main, Oct 13 2022, 21:23:06) [MSC v.1916 64 bit (AMD64)]"
  },
  "orig_nbformat": 4,
  "vscode": {
   "interpreter": {
    "hash": "8270e447217dfb8aa50efce57c8b0fee6196620bc8c4c1bb30fc34f6cadd18e6"
   }
  }
 },
 "nbformat": 4,
 "nbformat_minor": 2
}
